{
 "cells": [
  {
   "cell_type": "code",
   "execution_count": 1,
   "id": "5a804511",
   "metadata": {},
   "outputs": [],
   "source": [
    "import numpy as np\n",
    "import pandas as pd\n",
    "import matplotlib.pyplot as plt\n",
    "import seaborn as sns\n",
    "%matplotlib inline"
   ]
  },
  {
   "cell_type": "markdown",
   "id": "f0a08a26",
   "metadata": {},
   "source": [
    "# Customers Dataset"
   ]
  },
  {
   "cell_type": "markdown",
   "id": "ecb8f28e",
   "metadata": {},
   "source": [
    "## 1.  Load and overview\n",
    "Load `Customers` dataframe and overview it."
   ]
  },
  {
   "cell_type": "code",
   "execution_count": 2,
   "id": "d15f1ac0",
   "metadata": {},
   "outputs": [
    {
     "name": "stdout",
     "output_type": "stream",
     "text": [
      "<class 'pandas.core.frame.DataFrame'>\n",
      "RangeIndex: 9189 entries, 0 to 9188\n",
      "Data columns (total 10 columns):\n",
      " #   Column           Non-Null Count  Dtype \n",
      "---  ------           --------------  ----- \n",
      " 0   id               9189 non-null   int64 \n",
      " 1   age              9189 non-null   int64 \n",
      " 2   gender           8874 non-null   object\n",
      " 3   email            9012 non-null   object\n",
      " 4   business_nature  8978 non-null   object\n",
      " 5   company          8906 non-null   object\n",
      " 6   position         8914 non-null   object\n",
      " 7   payment_method   5865 non-null   object\n",
      " 8   name             9189 non-null   object\n",
      " 9   targets          9104 non-null   object\n",
      "dtypes: int64(2), object(8)\n",
      "memory usage: 718.0+ KB\n"
     ]
    }
   ],
   "source": [
    "customers = pd.read_csv('customers.csv')\n",
    "customers.info()"
   ]
  },
  {
   "cell_type": "code",
   "execution_count": 3,
   "id": "15edfe07",
   "metadata": {},
   "outputs": [
    {
     "data": {
      "text/html": [
       "<div>\n",
       "<style scoped>\n",
       "    .dataframe tbody tr th:only-of-type {\n",
       "        vertical-align: middle;\n",
       "    }\n",
       "\n",
       "    .dataframe tbody tr th {\n",
       "        vertical-align: top;\n",
       "    }\n",
       "\n",
       "    .dataframe thead th {\n",
       "        text-align: right;\n",
       "    }\n",
       "</style>\n",
       "<table border=\"1\" class=\"dataframe\">\n",
       "  <thead>\n",
       "    <tr style=\"text-align: right;\">\n",
       "      <th></th>\n",
       "      <th>id</th>\n",
       "      <th>age</th>\n",
       "      <th>gender</th>\n",
       "      <th>email</th>\n",
       "      <th>business_nature</th>\n",
       "      <th>company</th>\n",
       "      <th>position</th>\n",
       "      <th>payment_method</th>\n",
       "      <th>name</th>\n",
       "      <th>targets</th>\n",
       "    </tr>\n",
       "  </thead>\n",
       "  <tbody>\n",
       "    <tr>\n",
       "      <th>0</th>\n",
       "      <td>0</td>\n",
       "      <td>26</td>\n",
       "      <td>Male</td>\n",
       "      <td>gmail.com</td>\n",
       "      <td>Communications</td>\n",
       "      <td>NaN</td>\n",
       "      <td>customer service officer</td>\n",
       "      <td>A</td>\n",
       "      <td>John__melgarejo</td>\n",
       "      <td>20670.07;20632.81;20722.58;20332.79;20662.55</td>\n",
       "    </tr>\n",
       "    <tr>\n",
       "      <th>1</th>\n",
       "      <td>1</td>\n",
       "      <td>31</td>\n",
       "      <td>Male</td>\n",
       "      <td>ymail.com</td>\n",
       "      <td>Government</td>\n",
       "      <td>NaN</td>\n",
       "      <td>助理客戶服務主管</td>\n",
       "      <td>A</td>\n",
       "      <td>William___kerne</td>\n",
       "      <td>31551.75;32431.83</td>\n",
       "    </tr>\n",
       "    <tr>\n",
       "      <th>2</th>\n",
       "      <td>2</td>\n",
       "      <td>26</td>\n",
       "      <td>Male</td>\n",
       "      <td>yahoo.com.hk</td>\n",
       "      <td>Retail / Wholesale</td>\n",
       "      <td>NaN</td>\n",
       "      <td>店務員</td>\n",
       "      <td>A</td>\n",
       "      <td>James___kadner</td>\n",
       "      <td>21686.08;21282.62;21566.40</td>\n",
       "    </tr>\n",
       "    <tr>\n",
       "      <th>3</th>\n",
       "      <td>3</td>\n",
       "      <td>52</td>\n",
       "      <td>Male</td>\n",
       "      <td>gmail.com</td>\n",
       "      <td>Other</td>\n",
       "      <td>NaN</td>\n",
       "      <td>MANAGER</td>\n",
       "      <td>NaN</td>\n",
       "      <td>Charles__MUHL</td>\n",
       "      <td>26055.26;26039.48;25986.92</td>\n",
       "    </tr>\n",
       "    <tr>\n",
       "      <th>4</th>\n",
       "      <td>4</td>\n",
       "      <td>22</td>\n",
       "      <td>Male</td>\n",
       "      <td>gmail.com</td>\n",
       "      <td>Retail / Wholesale</td>\n",
       "      <td>NaN</td>\n",
       "      <td>sales</td>\n",
       "      <td>A</td>\n",
       "      <td>george___baridon</td>\n",
       "      <td>15950.31</td>\n",
       "    </tr>\n",
       "  </tbody>\n",
       "</table>\n",
       "</div>"
      ],
      "text/plain": [
       "   id  age gender         email     business_nature company  \\\n",
       "0   0   26   Male     gmail.com      Communications     NaN   \n",
       "1   1   31   Male     ymail.com          Government     NaN   \n",
       "2   2   26   Male  yahoo.com.hk  Retail / Wholesale     NaN   \n",
       "3   3   52   Male     gmail.com               Other     NaN   \n",
       "4   4   22   Male     gmail.com  Retail / Wholesale     NaN   \n",
       "\n",
       "                   position payment_method              name  \\\n",
       "0  customer service officer              A   John__melgarejo   \n",
       "1                  助理客戶服務主管              A   William___kerne   \n",
       "2                       店務員              A    James___kadner   \n",
       "3                   MANAGER            NaN     Charles__MUHL   \n",
       "4                     sales              A  george___baridon   \n",
       "\n",
       "                                        targets  \n",
       "0  20670.07;20632.81;20722.58;20332.79;20662.55  \n",
       "1                             31551.75;32431.83  \n",
       "2                    21686.08;21282.62;21566.40  \n",
       "3                    26055.26;26039.48;25986.92  \n",
       "4                                      15950.31  "
      ]
     },
     "execution_count": 3,
     "metadata": {},
     "output_type": "execute_result"
    }
   ],
   "source": [
    "customers.head()"
   ]
  },
  {
   "cell_type": "markdown",
   "id": "eb177309",
   "metadata": {},
   "source": [
    "## 2. Warmup\n",
    "Split the `name` column to two seperate columns - `first_name` and `last_name`, as well as capitalizing them."
   ]
  },
  {
   "cell_type": "code",
   "execution_count": 4,
   "id": "ba573dec",
   "metadata": {},
   "outputs": [
    {
     "data": {
      "text/html": [
       "<div>\n",
       "<style scoped>\n",
       "    .dataframe tbody tr th:only-of-type {\n",
       "        vertical-align: middle;\n",
       "    }\n",
       "\n",
       "    .dataframe tbody tr th {\n",
       "        vertical-align: top;\n",
       "    }\n",
       "\n",
       "    .dataframe thead th {\n",
       "        text-align: right;\n",
       "    }\n",
       "</style>\n",
       "<table border=\"1\" class=\"dataframe\">\n",
       "  <thead>\n",
       "    <tr style=\"text-align: right;\">\n",
       "      <th></th>\n",
       "      <th>id</th>\n",
       "      <th>age</th>\n",
       "      <th>gender</th>\n",
       "      <th>email</th>\n",
       "      <th>business_nature</th>\n",
       "      <th>company</th>\n",
       "      <th>position</th>\n",
       "      <th>payment_method</th>\n",
       "      <th>targets</th>\n",
       "      <th>first_name</th>\n",
       "      <th>last_name</th>\n",
       "    </tr>\n",
       "  </thead>\n",
       "  <tbody>\n",
       "    <tr>\n",
       "      <th>0</th>\n",
       "      <td>0</td>\n",
       "      <td>26</td>\n",
       "      <td>Male</td>\n",
       "      <td>gmail.com</td>\n",
       "      <td>Communications</td>\n",
       "      <td>NaN</td>\n",
       "      <td>customer service officer</td>\n",
       "      <td>A</td>\n",
       "      <td>20670.07;20632.81;20722.58;20332.79;20662.55</td>\n",
       "      <td>John</td>\n",
       "      <td>Melgarejo</td>\n",
       "    </tr>\n",
       "    <tr>\n",
       "      <th>1</th>\n",
       "      <td>1</td>\n",
       "      <td>31</td>\n",
       "      <td>Male</td>\n",
       "      <td>ymail.com</td>\n",
       "      <td>Government</td>\n",
       "      <td>NaN</td>\n",
       "      <td>助理客戶服務主管</td>\n",
       "      <td>A</td>\n",
       "      <td>31551.75;32431.83</td>\n",
       "      <td>William</td>\n",
       "      <td>Kerne</td>\n",
       "    </tr>\n",
       "    <tr>\n",
       "      <th>2</th>\n",
       "      <td>2</td>\n",
       "      <td>26</td>\n",
       "      <td>Male</td>\n",
       "      <td>yahoo.com.hk</td>\n",
       "      <td>Retail / Wholesale</td>\n",
       "      <td>NaN</td>\n",
       "      <td>店務員</td>\n",
       "      <td>A</td>\n",
       "      <td>21686.08;21282.62;21566.40</td>\n",
       "      <td>James</td>\n",
       "      <td>Kadner</td>\n",
       "    </tr>\n",
       "    <tr>\n",
       "      <th>3</th>\n",
       "      <td>3</td>\n",
       "      <td>52</td>\n",
       "      <td>Male</td>\n",
       "      <td>gmail.com</td>\n",
       "      <td>Other</td>\n",
       "      <td>NaN</td>\n",
       "      <td>MANAGER</td>\n",
       "      <td>NaN</td>\n",
       "      <td>26055.26;26039.48;25986.92</td>\n",
       "      <td>Charles</td>\n",
       "      <td>Muhl</td>\n",
       "    </tr>\n",
       "    <tr>\n",
       "      <th>4</th>\n",
       "      <td>4</td>\n",
       "      <td>22</td>\n",
       "      <td>Male</td>\n",
       "      <td>gmail.com</td>\n",
       "      <td>Retail / Wholesale</td>\n",
       "      <td>NaN</td>\n",
       "      <td>sales</td>\n",
       "      <td>A</td>\n",
       "      <td>15950.31</td>\n",
       "      <td>George</td>\n",
       "      <td>Baridon</td>\n",
       "    </tr>\n",
       "  </tbody>\n",
       "</table>\n",
       "</div>"
      ],
      "text/plain": [
       "   id  age gender         email     business_nature company  \\\n",
       "0   0   26   Male     gmail.com      Communications     NaN   \n",
       "1   1   31   Male     ymail.com          Government     NaN   \n",
       "2   2   26   Male  yahoo.com.hk  Retail / Wholesale     NaN   \n",
       "3   3   52   Male     gmail.com               Other     NaN   \n",
       "4   4   22   Male     gmail.com  Retail / Wholesale     NaN   \n",
       "\n",
       "                   position payment_method  \\\n",
       "0  customer service officer              A   \n",
       "1                  助理客戶服務主管              A   \n",
       "2                       店務員              A   \n",
       "3                   MANAGER            NaN   \n",
       "4                     sales              A   \n",
       "\n",
       "                                        targets first_name  last_name  \n",
       "0  20670.07;20632.81;20722.58;20332.79;20662.55       John  Melgarejo  \n",
       "1                             31551.75;32431.83    William      Kerne  \n",
       "2                    21686.08;21282.62;21566.40      James     Kadner  \n",
       "3                    26055.26;26039.48;25986.92    Charles       Muhl  \n",
       "4                                      15950.31     George    Baridon  "
      ]
     },
     "execution_count": 4,
     "metadata": {},
     "output_type": "execute_result"
    }
   ],
   "source": [
    "customers[['first_name', 'last_name']] = customers['name'].str.split('_').apply(lambda x: [x[0].capitalize(), x[-1].capitalize()]).to_list()\n",
    "customers.drop('name', axis=1, inplace=True)\n",
    "customers.head()"
   ]
  },
  {
   "cell_type": "markdown",
   "id": "f8777d3e",
   "metadata": {},
   "source": [
    "Add targets Mean, SD and Count features to the data frame."
   ]
  },
  {
   "cell_type": "code",
   "execution_count": 5,
   "id": "edb71330",
   "metadata": {},
   "outputs": [
    {
     "data": {
      "text/html": [
       "<div>\n",
       "<style scoped>\n",
       "    .dataframe tbody tr th:only-of-type {\n",
       "        vertical-align: middle;\n",
       "    }\n",
       "\n",
       "    .dataframe tbody tr th {\n",
       "        vertical-align: top;\n",
       "    }\n",
       "\n",
       "    .dataframe thead th {\n",
       "        text-align: right;\n",
       "    }\n",
       "</style>\n",
       "<table border=\"1\" class=\"dataframe\">\n",
       "  <thead>\n",
       "    <tr style=\"text-align: right;\">\n",
       "      <th></th>\n",
       "      <th>id</th>\n",
       "      <th>age</th>\n",
       "      <th>gender</th>\n",
       "      <th>email</th>\n",
       "      <th>business_nature</th>\n",
       "      <th>company</th>\n",
       "      <th>position</th>\n",
       "      <th>payment_method</th>\n",
       "      <th>targets</th>\n",
       "      <th>first_name</th>\n",
       "      <th>last_name</th>\n",
       "      <th>target_mean</th>\n",
       "      <th>target_sd</th>\n",
       "      <th>target_count</th>\n",
       "    </tr>\n",
       "  </thead>\n",
       "  <tbody>\n",
       "    <tr>\n",
       "      <th>0</th>\n",
       "      <td>0</td>\n",
       "      <td>26</td>\n",
       "      <td>Male</td>\n",
       "      <td>gmail.com</td>\n",
       "      <td>Communications</td>\n",
       "      <td>NaN</td>\n",
       "      <td>customer service officer</td>\n",
       "      <td>A</td>\n",
       "      <td>20670.07;20632.81;20722.58;20332.79;20662.55</td>\n",
       "      <td>John</td>\n",
       "      <td>Melgarejo</td>\n",
       "      <td>20604.16</td>\n",
       "      <td>155.112311</td>\n",
       "      <td>5</td>\n",
       "    </tr>\n",
       "    <tr>\n",
       "      <th>1</th>\n",
       "      <td>1</td>\n",
       "      <td>31</td>\n",
       "      <td>Male</td>\n",
       "      <td>ymail.com</td>\n",
       "      <td>Government</td>\n",
       "      <td>NaN</td>\n",
       "      <td>助理客戶服務主管</td>\n",
       "      <td>A</td>\n",
       "      <td>31551.75;32431.83</td>\n",
       "      <td>William</td>\n",
       "      <td>Kerne</td>\n",
       "      <td>31991.79</td>\n",
       "      <td>622.310536</td>\n",
       "      <td>2</td>\n",
       "    </tr>\n",
       "    <tr>\n",
       "      <th>2</th>\n",
       "      <td>2</td>\n",
       "      <td>26</td>\n",
       "      <td>Male</td>\n",
       "      <td>yahoo.com.hk</td>\n",
       "      <td>Retail / Wholesale</td>\n",
       "      <td>NaN</td>\n",
       "      <td>店務員</td>\n",
       "      <td>A</td>\n",
       "      <td>21686.08;21282.62;21566.40</td>\n",
       "      <td>James</td>\n",
       "      <td>Kadner</td>\n",
       "      <td>21511.70</td>\n",
       "      <td>207.217423</td>\n",
       "      <td>3</td>\n",
       "    </tr>\n",
       "    <tr>\n",
       "      <th>3</th>\n",
       "      <td>3</td>\n",
       "      <td>52</td>\n",
       "      <td>Male</td>\n",
       "      <td>gmail.com</td>\n",
       "      <td>Other</td>\n",
       "      <td>NaN</td>\n",
       "      <td>MANAGER</td>\n",
       "      <td>NaN</td>\n",
       "      <td>26055.26;26039.48;25986.92</td>\n",
       "      <td>Charles</td>\n",
       "      <td>Muhl</td>\n",
       "      <td>26027.22</td>\n",
       "      <td>35.781554</td>\n",
       "      <td>3</td>\n",
       "    </tr>\n",
       "    <tr>\n",
       "      <th>4</th>\n",
       "      <td>4</td>\n",
       "      <td>22</td>\n",
       "      <td>Male</td>\n",
       "      <td>gmail.com</td>\n",
       "      <td>Retail / Wholesale</td>\n",
       "      <td>NaN</td>\n",
       "      <td>sales</td>\n",
       "      <td>A</td>\n",
       "      <td>15950.31</td>\n",
       "      <td>George</td>\n",
       "      <td>Baridon</td>\n",
       "      <td>15950.31</td>\n",
       "      <td>NaN</td>\n",
       "      <td>1</td>\n",
       "    </tr>\n",
       "  </tbody>\n",
       "</table>\n",
       "</div>"
      ],
      "text/plain": [
       "   id  age gender         email     business_nature company  \\\n",
       "0   0   26   Male     gmail.com      Communications     NaN   \n",
       "1   1   31   Male     ymail.com          Government     NaN   \n",
       "2   2   26   Male  yahoo.com.hk  Retail / Wholesale     NaN   \n",
       "3   3   52   Male     gmail.com               Other     NaN   \n",
       "4   4   22   Male     gmail.com  Retail / Wholesale     NaN   \n",
       "\n",
       "                   position payment_method  \\\n",
       "0  customer service officer              A   \n",
       "1                  助理客戶服務主管              A   \n",
       "2                       店務員              A   \n",
       "3                   MANAGER            NaN   \n",
       "4                     sales              A   \n",
       "\n",
       "                                        targets first_name  last_name  \\\n",
       "0  20670.07;20632.81;20722.58;20332.79;20662.55       John  Melgarejo   \n",
       "1                             31551.75;32431.83    William      Kerne   \n",
       "2                    21686.08;21282.62;21566.40      James     Kadner   \n",
       "3                    26055.26;26039.48;25986.92    Charles       Muhl   \n",
       "4                                      15950.31     George    Baridon   \n",
       "\n",
       "   target_mean   target_sd  target_count  \n",
       "0     20604.16  155.112311             5  \n",
       "1     31991.79  622.310536             2  \n",
       "2     21511.70  207.217423             3  \n",
       "3     26027.22   35.781554             3  \n",
       "4     15950.31         NaN             1  "
      ]
     },
     "execution_count": 5,
     "metadata": {},
     "output_type": "execute_result"
    }
   ],
   "source": [
    "customers['target_mean'] = customers['targets'].str.split(';', expand=True).astype(float).mean(axis=1)\n",
    "customers['target_sd'] = customers['targets'].str.split(';', expand=True).astype(float).std(axis=1)\n",
    "customers['target_count'] = customers['targets'].str.split(';', expand=True).astype(float).count(axis=1)\n",
    "customers.head()\n"
   ]
  },
  {
   "cell_type": "markdown",
   "id": "241ef662",
   "metadata": {},
   "source": [
    "## 3. Data exploration"
   ]
  },
  {
   "cell_type": "markdown",
   "id": "d6055c41",
   "metadata": {},
   "source": [
    "A quick statistical view of the numeric columns reveals odd variation in the `target_mean` values."
   ]
  },
  {
   "cell_type": "code",
   "execution_count": 6,
   "id": "bf13c61e",
   "metadata": {},
   "outputs": [
    {
     "data": {
      "text/html": [
       "<div>\n",
       "<style scoped>\n",
       "    .dataframe tbody tr th:only-of-type {\n",
       "        vertical-align: middle;\n",
       "    }\n",
       "\n",
       "    .dataframe tbody tr th {\n",
       "        vertical-align: top;\n",
       "    }\n",
       "\n",
       "    .dataframe thead th {\n",
       "        text-align: right;\n",
       "    }\n",
       "</style>\n",
       "<table border=\"1\" class=\"dataframe\">\n",
       "  <thead>\n",
       "    <tr style=\"text-align: right;\">\n",
       "      <th></th>\n",
       "      <th>id</th>\n",
       "      <th>age</th>\n",
       "      <th>target_mean</th>\n",
       "      <th>target_sd</th>\n",
       "      <th>target_count</th>\n",
       "    </tr>\n",
       "  </thead>\n",
       "  <tbody>\n",
       "    <tr>\n",
       "      <th>count</th>\n",
       "      <td>9189.000000</td>\n",
       "      <td>9189.000000</td>\n",
       "      <td>9.104000e+03</td>\n",
       "      <td>7233.000000</td>\n",
       "      <td>9189.000000</td>\n",
       "    </tr>\n",
       "    <tr>\n",
       "      <th>mean</th>\n",
       "      <td>4594.000000</td>\n",
       "      <td>34.411906</td>\n",
       "      <td>1.394576e+05</td>\n",
       "      <td>265.586626</td>\n",
       "      <td>2.956579</td>\n",
       "    </tr>\n",
       "    <tr>\n",
       "      <th>std</th>\n",
       "      <td>2652.780145</td>\n",
       "      <td>10.177313</td>\n",
       "      <td>1.039534e+07</td>\n",
       "      <td>275.442002</td>\n",
       "      <td>1.440357</td>\n",
       "    </tr>\n",
       "    <tr>\n",
       "      <th>min</th>\n",
       "      <td>0.000000</td>\n",
       "      <td>18.000000</td>\n",
       "      <td>-1.950875e+03</td>\n",
       "      <td>0.035355</td>\n",
       "      <td>0.000000</td>\n",
       "    </tr>\n",
       "    <tr>\n",
       "      <th>25%</th>\n",
       "      <td>2297.000000</td>\n",
       "      <td>26.000000</td>\n",
       "      <td>1.859656e+04</td>\n",
       "      <td>119.736073</td>\n",
       "      <td>2.000000</td>\n",
       "    </tr>\n",
       "    <tr>\n",
       "      <th>50%</th>\n",
       "      <td>4594.000000</td>\n",
       "      <td>33.000000</td>\n",
       "      <td>2.429910e+04</td>\n",
       "      <td>203.174600</td>\n",
       "      <td>3.000000</td>\n",
       "    </tr>\n",
       "    <tr>\n",
       "      <th>75%</th>\n",
       "      <td>6891.000000</td>\n",
       "      <td>41.000000</td>\n",
       "      <td>3.387623e+04</td>\n",
       "      <td>323.515495</td>\n",
       "      <td>4.000000</td>\n",
       "    </tr>\n",
       "    <tr>\n",
       "      <th>max</th>\n",
       "      <td>9188.000000</td>\n",
       "      <td>64.000000</td>\n",
       "      <td>9.918983e+08</td>\n",
       "      <td>7156.861078</td>\n",
       "      <td>5.000000</td>\n",
       "    </tr>\n",
       "  </tbody>\n",
       "</table>\n",
       "</div>"
      ],
      "text/plain": [
       "                id          age   target_mean    target_sd  target_count\n",
       "count  9189.000000  9189.000000  9.104000e+03  7233.000000   9189.000000\n",
       "mean   4594.000000    34.411906  1.394576e+05   265.586626      2.956579\n",
       "std    2652.780145    10.177313  1.039534e+07   275.442002      1.440357\n",
       "min       0.000000    18.000000 -1.950875e+03     0.035355      0.000000\n",
       "25%    2297.000000    26.000000  1.859656e+04   119.736073      2.000000\n",
       "50%    4594.000000    33.000000  2.429910e+04   203.174600      3.000000\n",
       "75%    6891.000000    41.000000  3.387623e+04   323.515495      4.000000\n",
       "max    9188.000000    64.000000  9.918983e+08  7156.861078      5.000000"
      ]
     },
     "execution_count": 6,
     "metadata": {},
     "output_type": "execute_result"
    }
   ],
   "source": [
    "customers.describe()"
   ]
  },
  {
   "cell_type": "markdown",
   "id": "f62f268a",
   "metadata": {},
   "source": [
    "BoxPlotting `target_mean` implies atleast one **mega outlier**, could be a result of a bad sample. "
   ]
  },
  {
   "cell_type": "code",
   "execution_count": 7,
   "id": "8fec5dca",
   "metadata": {},
   "outputs": [
    {
     "data": {
      "image/png": "[encoded data removed]",
      "text/plain": [
       "<Figure size 432x288 with 1 Axes>"
      ]
     },
     "metadata": {
      "needs_background": "light"
     },
     "output_type": "display_data"
    }
   ],
   "source": [
    "sns.boxplot(x=customers['target_mean']);"
   ]
  },
  {
   "cell_type": "markdown",
   "id": "fdc6971c",
   "metadata": {},
   "source": [
    "Let us check for positive outlier(s) numerically:"
   ]
  },
  {
   "cell_type": "code",
   "execution_count": 8,
   "id": "54e808a9",
   "metadata": {},
   "outputs": [
    {
     "data": {
      "text/plain": [
       "8419    9.918983e+08\n",
       "7129    7.194920e+05\n",
       "7131    4.279392e+05\n",
       "3948    4.261088e+05\n",
       "457     4.149380e+05\n",
       "Name: target_mean, dtype: float64"
      ]
     },
     "execution_count": 8,
     "metadata": {},
     "output_type": "execute_result"
    }
   ],
   "source": [
    "customers['target_mean'].nlargest()"
   ]
  },
  {
   "cell_type": "markdown",
   "id": "341bfb1b",
   "metadata": {},
   "source": [
    "We notice that the top value, that is, the one at row `8418` is indeed the \"massive outlier\" seen in the boxplot above. Consider the 2nd largest value as well, which is at row `7129`. It's almost twice as large than the values before it, making it a potential outlier as well.\n",
    "\n",
    "Plotting again without these rows yields the following BoxPlot and histogram: (Note that we didn't drop them inplace, as dropping outliers should be done with the dedicated `DataCleaner` class later on."
   ]
  },
  {
   "cell_type": "code",
   "execution_count": 9,
   "id": "12ef8121",
   "metadata": {},
   "outputs": [
    {
     "data": {
      "image/png": "[encoded data removed]",
      "text/plain": [
       "<Figure size 1008x432 with 1 Axes>"
      ]
     },
     "metadata": {
      "needs_background": "light"
     },
     "output_type": "display_data"
    }
   ],
   "source": [
    "plt.figure(figsize=(14,6))\n",
    "sns.boxplot(x=customers.drop([8419, 7129])['target_mean']);"
   ]
  },
  {
   "cell_type": "markdown",
   "id": "7740efd5",
   "metadata": {},
   "source": [
    "Because of its continuous nature, it might be tempting to think that `target_mean` has an exponential or log-normal distribution. However, it has some negative values (as seen below), making it impossible unless the minus signs were added by mistake. Unfortunately, we cannot tell if that was indeed a mistake, since no additional information was provided regarding `targets`."
   ]
  },
  {
   "cell_type": "code",
   "execution_count": 10,
   "id": "44b57ffa",
   "metadata": {},
   "outputs": [
    {
     "data": {
      "text/plain": [
       "3886   -1950.875000\n",
       "9167   -1746.732500\n",
       "5598   -1427.163333\n",
       "9087   -1168.060000\n",
       "3891   -1109.400000\n",
       "3877   -1101.774000\n",
       "8991    -944.956667\n",
       "9078    -845.268000\n",
       "9066    -818.904000\n",
       "3869    -454.455000\n",
       "Name: target_mean, dtype: float64"
      ]
     },
     "execution_count": 10,
     "metadata": {},
     "output_type": "execute_result"
    }
   ],
   "source": [
    "customers['target_mean'].nsmallest(10)"
   ]
  },
  {
   "cell_type": "markdown",
   "id": "d831f3c8",
   "metadata": {},
   "source": [
    "On the other hand, the `target_sd` feature seems to have a LogNormal distribution."
   ]
  },
  {
   "cell_type": "code",
   "execution_count": 11,
   "id": "7cb09a5d",
   "metadata": {},
   "outputs": [
    {
     "data": {
      "image/png": "[encoded data removed]",
      "text/plain": [
       "<Figure size 432x288 with 1 Axes>"
      ]
     },
     "metadata": {
      "needs_background": "light"
     },
     "output_type": "display_data"
    }
   ],
   "source": [
    "sns.histplot(x=customers['target_sd'], kde=True)\n",
    "plt.xlim((0, 1500));"
   ]
  },
  {
   "cell_type": "markdown",
   "id": "30ad21ec",
   "metadata": {},
   "source": [
    "Looking at the histogram below, it looks like the number of targets for each individual has a *discrete uniform distribution* between 1 and 5. Formaly, we have  $X \\sim U[1,5]$ where $X=$ `target_count`."
   ]
  },
  {
   "cell_type": "code",
   "execution_count": 12,
   "id": "3d1531d7",
   "metadata": {},
   "outputs": [
    {
     "data": {
      "image/png": "[encoded data removed]",
      "text/plain": [
       "<Figure size 432x288 with 1 Axes>"
      ]
     },
     "metadata": {},
     "output_type": "display_data"
    }
   ],
   "source": [
    "sns.set_style('darkgrid')\n",
    "sns.countplot(x=customers['target_count'][customers['target_count']>0], color='blue', alpha=0.7);"
   ]
  },
  {
   "cell_type": "markdown",
   "id": "e6b5422e",
   "metadata": {},
   "source": [
    "Checking the `gender` distribution reveals greater amount of male customers."
   ]
  },
  {
   "cell_type": "code",
   "execution_count": 13,
   "id": "833fb4f9",
   "metadata": {},
   "outputs": [
    {
     "data": {
      "image/png": "[encoded data removed]",
      "text/plain": [
       "<Figure size 432x288 with 1 Axes>"
      ]
     },
     "metadata": {},
     "output_type": "display_data"
    }
   ],
   "source": [
    "sns.countplot(x=customers['gender'], palette='RdBu_r');"
   ]
  },
  {
   "cell_type": "markdown",
   "id": "2870b894",
   "metadata": {},
   "source": [
    "Let us check the distribution of the `payment_method` feature. This column has a large amount of missing values, which will be classified as `NA` in the following countplot, having their own bar.<br>\n",
    "The countplot reveals only 3 distinct payment methods. We can see a significant dominance in the `A` payment method compared to both `B` and `C`, which have simillar counts. The countplot also present the amount of missing values compared to the existing ones."
   ]
  },
  {
   "cell_type": "code",
   "execution_count": 14,
   "id": "9c9c92d7",
   "metadata": {},
   "outputs": [
    {
     "data": {
      "image/png": "[encoded data removed]",
      "text/plain": [
       "<Figure size 432x288 with 1 Axes>"
      ]
     },
     "metadata": {},
     "output_type": "display_data"
    }
   ],
   "source": [
    "sns.countplot(x=customers['payment_method'].fillna('NA'))\n",
    "plt.xlabel('Payment Method');"
   ]
  },
  {
   "cell_type": "markdown",
   "id": "d0a5829d",
   "metadata": {},
   "source": [
    "Now let us analyze `email`.<br>\n",
    "We begin by checking the number of unique domains, along with a quick sample of all domains that start with `gmail`."
   ]
  },
  {
   "cell_type": "code",
   "execution_count": 15,
   "id": "d47d269a",
   "metadata": {},
   "outputs": [
    {
     "name": "stdout",
     "output_type": "stream",
     "text": [
      "There are 269 unique domains. \n",
      "\n",
      "['gmail.com' 'gmail.con' 'gmail.coom' 'gmail.co' 'gmail.com.hk' 'gmail.hk'\n",
      " 'gmail.comm' 'gmail.xom']\n"
     ]
    }
   ],
   "source": [
    "print(f'There are {customers.email.nunique()} unique domains.', '\\n')\n",
    "print(customers.email[customers.email.str.startswith('gmail', na=False)].unique())"
   ]
  },
  {
   "cell_type": "markdown",
   "id": "7e126588",
   "metadata": {},
   "source": [
    "Having 269 unique domains is suspicious. The `gmail` domain list suggests there are some problems in the data. While `com` and `hk` are reasonably different, there is no doubt that `con`, `comm`, `coom` and `xom` should be clustered together with `com`.\n",
    "There are even more problems with this data, which seems to suffer from bad typos, such as a `gamil` domain, which probably should be also clustered with `gmail`.\n",
    "\n",
    "Unfortunately, we do not have the required knowledge to make smart clustering (yet!) so we choose to make a new column named `provider`, which states only the domain's provider (e.g `gmail` rather than `gmail.xxx`). This way, we could handle the first clustering problem we've stated (`con`, `comm` etc), but not the second one (`gamil`). This limitation wouldn't bother us as long as we assume very low frequency of these cases."
   ]
  },
  {
   "cell_type": "code",
   "execution_count": 16,
   "id": "d1eadc5e",
   "metadata": {},
   "outputs": [
    {
     "data": {
      "text/html": [
       "<div>\n",
       "<style scoped>\n",
       "    .dataframe tbody tr th:only-of-type {\n",
       "        vertical-align: middle;\n",
       "    }\n",
       "\n",
       "    .dataframe tbody tr th {\n",
       "        vertical-align: top;\n",
       "    }\n",
       "\n",
       "    .dataframe thead th {\n",
       "        text-align: right;\n",
       "    }\n",
       "</style>\n",
       "<table border=\"1\" class=\"dataframe\">\n",
       "  <thead>\n",
       "    <tr style=\"text-align: right;\">\n",
       "      <th></th>\n",
       "      <th>id</th>\n",
       "      <th>age</th>\n",
       "      <th>gender</th>\n",
       "      <th>email</th>\n",
       "      <th>provider</th>\n",
       "      <th>business_nature</th>\n",
       "      <th>company</th>\n",
       "      <th>position</th>\n",
       "      <th>payment_method</th>\n",
       "      <th>targets</th>\n",
       "      <th>first_name</th>\n",
       "      <th>last_name</th>\n",
       "      <th>target_mean</th>\n",
       "      <th>target_sd</th>\n",
       "      <th>target_count</th>\n",
       "    </tr>\n",
       "  </thead>\n",
       "  <tbody>\n",
       "    <tr>\n",
       "      <th>0</th>\n",
       "      <td>0</td>\n",
       "      <td>26</td>\n",
       "      <td>Male</td>\n",
       "      <td>gmail.com</td>\n",
       "      <td>gmail</td>\n",
       "      <td>Communications</td>\n",
       "      <td>NaN</td>\n",
       "      <td>customer service officer</td>\n",
       "      <td>A</td>\n",
       "      <td>20670.07;20632.81;20722.58;20332.79;20662.55</td>\n",
       "      <td>John</td>\n",
       "      <td>Melgarejo</td>\n",
       "      <td>20604.16</td>\n",
       "      <td>155.112311</td>\n",
       "      <td>5</td>\n",
       "    </tr>\n",
       "    <tr>\n",
       "      <th>1</th>\n",
       "      <td>1</td>\n",
       "      <td>31</td>\n",
       "      <td>Male</td>\n",
       "      <td>ymail.com</td>\n",
       "      <td>ymail</td>\n",
       "      <td>Government</td>\n",
       "      <td>NaN</td>\n",
       "      <td>助理客戶服務主管</td>\n",
       "      <td>A</td>\n",
       "      <td>31551.75;32431.83</td>\n",
       "      <td>William</td>\n",
       "      <td>Kerne</td>\n",
       "      <td>31991.79</td>\n",
       "      <td>622.310536</td>\n",
       "      <td>2</td>\n",
       "    </tr>\n",
       "    <tr>\n",
       "      <th>2</th>\n",
       "      <td>2</td>\n",
       "      <td>26</td>\n",
       "      <td>Male</td>\n",
       "      <td>yahoo.com.hk</td>\n",
       "      <td>yahoo</td>\n",
       "      <td>Retail / Wholesale</td>\n",
       "      <td>NaN</td>\n",
       "      <td>店務員</td>\n",
       "      <td>A</td>\n",
       "      <td>21686.08;21282.62;21566.40</td>\n",
       "      <td>James</td>\n",
       "      <td>Kadner</td>\n",
       "      <td>21511.70</td>\n",
       "      <td>207.217423</td>\n",
       "      <td>3</td>\n",
       "    </tr>\n",
       "    <tr>\n",
       "      <th>3</th>\n",
       "      <td>3</td>\n",
       "      <td>52</td>\n",
       "      <td>Male</td>\n",
       "      <td>gmail.com</td>\n",
       "      <td>gmail</td>\n",
       "      <td>Other</td>\n",
       "      <td>NaN</td>\n",
       "      <td>MANAGER</td>\n",
       "      <td>NaN</td>\n",
       "      <td>26055.26;26039.48;25986.92</td>\n",
       "      <td>Charles</td>\n",
       "      <td>Muhl</td>\n",
       "      <td>26027.22</td>\n",
       "      <td>35.781554</td>\n",
       "      <td>3</td>\n",
       "    </tr>\n",
       "    <tr>\n",
       "      <th>4</th>\n",
       "      <td>4</td>\n",
       "      <td>22</td>\n",
       "      <td>Male</td>\n",
       "      <td>gmail.com</td>\n",
       "      <td>gmail</td>\n",
       "      <td>Retail / Wholesale</td>\n",
       "      <td>NaN</td>\n",
       "      <td>sales</td>\n",
       "      <td>A</td>\n",
       "      <td>15950.31</td>\n",
       "      <td>George</td>\n",
       "      <td>Baridon</td>\n",
       "      <td>15950.31</td>\n",
       "      <td>NaN</td>\n",
       "      <td>1</td>\n",
       "    </tr>\n",
       "  </tbody>\n",
       "</table>\n",
       "</div>"
      ],
      "text/plain": [
       "   id  age gender         email provider     business_nature company  \\\n",
       "0   0   26   Male     gmail.com    gmail      Communications     NaN   \n",
       "1   1   31   Male     ymail.com    ymail          Government     NaN   \n",
       "2   2   26   Male  yahoo.com.hk    yahoo  Retail / Wholesale     NaN   \n",
       "3   3   52   Male     gmail.com    gmail               Other     NaN   \n",
       "4   4   22   Male     gmail.com    gmail  Retail / Wholesale     NaN   \n",
       "\n",
       "                   position payment_method  \\\n",
       "0  customer service officer              A   \n",
       "1                  助理客戶服務主管              A   \n",
       "2                       店務員              A   \n",
       "3                   MANAGER            NaN   \n",
       "4                     sales              A   \n",
       "\n",
       "                                        targets first_name  last_name  \\\n",
       "0  20670.07;20632.81;20722.58;20332.79;20662.55       John  Melgarejo   \n",
       "1                             31551.75;32431.83    William      Kerne   \n",
       "2                    21686.08;21282.62;21566.40      James     Kadner   \n",
       "3                    26055.26;26039.48;25986.92    Charles       Muhl   \n",
       "4                                      15950.31     George    Baridon   \n",
       "\n",
       "   target_mean   target_sd  target_count  \n",
       "0     20604.16  155.112311             5  \n",
       "1     31991.79  622.310536             2  \n",
       "2     21511.70  207.217423             3  \n",
       "3     26027.22   35.781554             3  \n",
       "4     15950.31         NaN             1  "
      ]
     },
     "execution_count": 16,
     "metadata": {},
     "output_type": "execute_result"
    }
   ],
   "source": [
    "customers.insert(loc=4, column='provider', value=customers.email.str.split('.', expand=True)[0])\n",
    "customers.head()"
   ]
  },
  {
   "cell_type": "markdown",
   "id": "1a709501",
   "metadata": {},
   "source": [
    "Plotting the 7 most popular providers, as well as calculating the percentages, implies that `gmail`, `yahoo` and `hotmail` are far more popular than the others."
   ]
  },
  {
   "cell_type": "code",
   "execution_count": 17,
   "id": "e42abe52",
   "metadata": {},
   "outputs": [
    {
     "data": {
      "image/png": "[encoded data removed]",
      "text/plain": [
       "<Figure size 720x360 with 1 Axes>"
      ]
     },
     "metadata": {},
     "output_type": "display_data"
    }
   ],
   "source": [
    "customers.provider.value_counts(False).reset_index().head(7).plot(x='index', y='provider', kind='bar', color='c', figsize=(10,5))\n",
    "plt.xlabel('')\n",
    "plt.ylabel('Count');\n"
   ]
  },
  {
   "cell_type": "code",
   "execution_count": 18,
   "id": "ed28af20",
   "metadata": {},
   "outputs": [
    {
     "name": "stdout",
     "output_type": "stream",
     "text": [
      "Top Ratios:\n",
      "\n",
      "gmail      0.424212\n",
      "yahoo      0.276853\n",
      "hotmail    0.162228\n",
      "126        0.014425\n",
      "123        0.013205\n",
      "Name: provider, dtype: float64\n",
      "\n",
      "gmail, yahoo and hotmail provide 86.33% of total domains.\n"
     ]
    }
   ],
   "source": [
    "print('Top Ratios:\\n\\n', customers.provider.value_counts(normalize=True).head(5), '\\n', sep='')\n",
    "print(f'gmail, yahoo and hotmail provide {100 * round(customers.provider.value_counts(normalize=True).head(3).sum(), ndigits=4)}% of total domains.')"
   ]
  },
  {
   "cell_type": "markdown",
   "id": "1e7177e6",
   "metadata": {},
   "source": [
    "Moving on to the `age` column. We choose to plot a countplot rather than a histogram because `age` is discrete. <br>\n",
    "Based on it, it looks like age has a *Poisson distribution*, namely $X \\sim \\text{Po}(\\lambda)$, where $X=$ `age` for some $\\lambda>0$."
   ]
  },
  {
   "cell_type": "code",
   "execution_count": 19,
   "id": "79b52c52",
   "metadata": {},
   "outputs": [
    {
     "name": "stdout",
     "output_type": "stream",
     "text": [
      "Average Age: 34.41\n"
     ]
    },
    {
     "data": {
      "image/png": "[encoded data removed]",
      "text/plain": [
       "<Figure size 864x432 with 1 Axes>"
      ]
     },
     "metadata": {},
     "output_type": "display_data"
    }
   ],
   "source": [
    "sns.set_style('whitegrid')\n",
    "plt.figure(figsize=(12,6))\n",
    "sns.countplot(x=customers['age'], color='purple', alpha=0.7)\n",
    "print('Average Age:', round(customers['age'].mean(), 2))"
   ]
  },
  {
   "cell_type": "markdown",
   "id": "db225f15",
   "metadata": {},
   "source": [
    "Looking at the countplot below, it seems like `gender` doesn't affect the above distribution distribution."
   ]
  },
  {
   "cell_type": "code",
   "execution_count": 20,
   "id": "5e8396fb",
   "metadata": {},
   "outputs": [
    {
     "data": {
      "image/png": "[encoded data removed]",
      "text/plain": [
       "<Figure size 864x432 with 1 Axes>"
      ]
     },
     "metadata": {},
     "output_type": "display_data"
    }
   ],
   "source": [
    "plt.figure(figsize=(12,6))\n",
    "sns.countplot(x='age', alpha=0.9, hue='gender', data=customers, dodge=False, palette='RdBu_r')\n",
    "plt.legend(loc=1);"
   ]
  },
  {
   "cell_type": "markdown",
   "id": "d0244d59",
   "metadata": {},
   "source": [
    "Moving on, the following plot reveals the distribution of the `business_nature` feature. <br>\n",
    "Looking at the chart, it might be a good idea to assign the `other` value to the missing values for that feature."
   ]
  },
  {
   "cell_type": "code",
   "execution_count": 21,
   "id": "83265c92",
   "metadata": {},
   "outputs": [
    {
     "data": {
      "text/plain": [
       "<AxesSubplot:xlabel='count', ylabel='business_nature'>"
      ]
     },
     "execution_count": 21,
     "metadata": {},
     "output_type": "execute_result"
    },
    {
     "data": {
      "image/png": "[encoded data removed]",
      "text/plain": [
       "<Figure size 576x720 with 1 Axes>"
      ]
     },
     "metadata": {},
     "output_type": "display_data"
    }
   ],
   "source": [
    "plt.figure(figsize=(8,10))\n",
    "customers.business_nature.value_counts()\n",
    "sns.countplot(y=customers['business_nature'], order=customers.business_nature.value_counts().index, palette='inferno_r')"
   ]
  },
  {
   "cell_type": "markdown",
   "id": "c76397ad",
   "metadata": {},
   "source": [
    "Examing the `id` column, it seems like it is ranging from 0 to n along with the index. This makes it redundant and will be removed later on."
   ]
  },
  {
   "cell_type": "code",
   "execution_count": 22,
   "id": "e75516b2",
   "metadata": {},
   "outputs": [
    {
     "data": {
      "text/plain": [
       "count    9189.000000\n",
       "mean     4594.000000\n",
       "std      2652.780145\n",
       "min         0.000000\n",
       "25%      2297.000000\n",
       "50%      4594.000000\n",
       "75%      6891.000000\n",
       "max      9188.000000\n",
       "Name: id, dtype: float64"
      ]
     },
     "execution_count": 22,
     "metadata": {},
     "output_type": "execute_result"
    }
   ],
   "source": [
    "customers.id.describe()"
   ]
  },
  {
   "cell_type": "markdown",
   "id": "983f7bfb",
   "metadata": {},
   "source": [
    "### Missing Values\n",
    "Let us check for missing values, using a sophisticated heatmap."
   ]
  },
  {
   "cell_type": "code",
   "execution_count": 23,
   "id": "037eb289",
   "metadata": {},
   "outputs": [
    {
     "data": {
      "image/png": "[encoded data removed]",
      "text/plain": [
       "<Figure size 576x432 with 1 Axes>"
      ]
     },
     "metadata": {},
     "output_type": "display_data"
    }
   ],
   "source": [
    "plt.figure(figsize=(8,6))\n",
    "sns.heatmap(customers.isnull(), cmap='viridis', yticklabels=False, cbar=False);"
   ]
  },
  {
   "cell_type": "code",
   "execution_count": 24,
   "id": "e9e14bc0",
   "metadata": {},
   "outputs": [
    {
     "name": "stdout",
     "output_type": "stream",
     "text": [
      "Missing Values Rates:\n",
      "\n",
      "gender              3.43%\n",
      "email               1.93%\n",
      "provider            1.93%\n",
      "business_nature      2.3%\n",
      "company             3.08%\n",
      "position            2.99%\n",
      "payment_method     36.17%\n",
      "targets             0.93%\n",
      "target_mean         0.93%\n",
      "target_sd          21.29%\n",
      "dtype: object\n"
     ]
    }
   ],
   "source": [
    "print('Missing Values Rates:\\n')\n",
    "print(round(customers.isnull().mean()[customers.isnull().mean() > 0] * 100, 2).astype(str) + '%')"
   ]
  },
  {
   "cell_type": "markdown",
   "id": "7a6a9e1d",
   "metadata": {},
   "source": [
    "Seemingly, `target_sd`'s nulls result from only one `targets` value (undefined std), those missing values are justified.\n",
    "However, the `payment_method` nulls are too many and we will probably choose to drop this column or set the nulls to a fixed value. <br>\n",
    "As for the other nulls in the data set, we can handle them in a variaty of ways, such as drop the rows with no gender info (Because there are only a few) or by setting the `null` values, as suggested with the payment method case.\n",
    "\n",
    "As for the rows, we would like to drop rows with too many missing values, say more than 50%. There will be a dedicated method for that in the `DataCleaner` class."
   ]
  },
  {
   "cell_type": "markdown",
   "id": "b9b30d27",
   "metadata": {},
   "source": [
    "An interesting approach for filling in missing values would be to *predict* them. Although this task would be relative hard here, as implied by the *correlation matrix* below."
   ]
  },
  {
   "cell_type": "code",
   "execution_count": 25,
   "id": "b54640e5",
   "metadata": {},
   "outputs": [
    {
     "data": {
      "image/png": "[encoded data removed]",
      "text/plain": [
       "<Figure size 432x288 with 2 Axes>"
      ]
     },
     "metadata": {},
     "output_type": "display_data"
    }
   ],
   "source": [
    "sns.heatmap(customers.corr(), cmap='magma');"
   ]
  },
  {
   "cell_type": "markdown",
   "id": "477c279b",
   "metadata": {},
   "source": [
    "The only high correlation we have is between `target_mean` and `target_sd`, but this correlation is trivial and won't be helpful to us at all."
   ]
  },
  {
   "cell_type": "markdown",
   "id": "4a22c591",
   "metadata": {},
   "source": [
    "## 4. Cleaning the data\n",
    "Consider the `DataCleaner` class below. This class was built to help us with our cleaning process. <br>\n",
    "One should notice that all methods occur in-place."
   ]
  },
  {
   "cell_type": "code",
   "execution_count": 26,
   "id": "bb355bf2",
   "metadata": {},
   "outputs": [],
   "source": [
    "class DataCleaner:\n",
    "    def __init__(self, df):\n",
    "        '''Initiate a \"DataCleaner\" object. Pass in a DataFrame.'''\n",
    "        self.df = df\n",
    "        \n",
    "    def rm_null_rows(self, p):\n",
    "        '''Removes rows having at least 100*p percent null values'''\n",
    "        assert (0 <= p <= 1), 'p should be between 0 and 1' \n",
    "        self.df = self.df[self.df.isnull().mean(axis=1) < p]\n",
    "        return None\n",
    "    \n",
    "    def rm_outliers(self, col, q=0.999, mul=2):\n",
    "        '''Removes values which are at least 'mul' times larger in absolute value than the 'q' quantile, given a dataframe column (col).\n",
    "        q=0.999 and mul=2 by default, that is removing all the values which are more than two times larger than 99.9% of the other values.'''\n",
    "        assert (0 <= q <= 1), 'q should be between 0 and 1'\n",
    "        self.df = self.df[self.df[col].fillna(0) <= self.df[col].quantile(q) * mul]\n",
    "        return None\n",
    "    \n",
    "    def rm_negatives(self, col):\n",
    "        '''Removes all rows having negative values in the 'col' column.'''\n",
    "        self.df =  self.df[self.df[col]>=0]\n",
    "        return None\n",
    "    \n",
    "    def set_na(self, col, val=0):\n",
    "        '''Sets all null values in the 'col' column to 'val'. '''\n",
    "        df_copy = self.df.copy()\n",
    "        df_copy[col] = self.df[col].fillna(val)\n",
    "        self.df = df_copy\n",
    "        return None\n",
    "    \n",
    "    def rm_na_except(self, *cols):\n",
    "        '''Removes all na values in the dataframe, except for the specified column(s).\n",
    "        Multiple columns should be passed as args'''\n",
    "        self.df = self.df.dropna(subset=self.df.columns.difference([*cols]))\n",
    "        return None\n",
    "    \n",
    "    def rm_dup_idx(self):\n",
    "        '''Searches for a column which is a duplicate of the index column, and removes it'''\n",
    "        for col in self.df.columns:\n",
    "            if np.all(self.df.index == self.df[col]):\n",
    "                self.df = self.df.drop(col, axis=1)\n",
    "                \n",
    "    def to_dollars(self, col, size='T'):\n",
    "        '''Cleans a messy currency column featuring billions and Trillions and converts it to Billions.'''\n",
    "        self.df[col] = self.df[col].astype(str).apply(self.__to_dollars_inside)\n",
    "        return None\n",
    "    \n",
    "    def zero_fill(self, col):\n",
    "        '''Apply the \"zfill\" method on a column, with number of zeroes as the length of the maximum instance in that column'''\n",
    "        self.df[col] = self.df[col].str.zfill(self.df[col].apply(len).max())\n",
    "        return None\n",
    "    \n",
    "    @staticmethod\n",
    "    def __to_dollars_inside(val):\n",
    "        '''This is a private method used in the to_dollars method'''\n",
    "        if val.endswith('billion') or val.endswith('B'):\n",
    "            return float(val.strip('Bbilion$'))\n",
    "        elif val.endswith('T') or val.endswith('trillion'):\n",
    "            return float(val.strip().strip('Ttrillion$')) * 1000\n",
    "        else:\n",
    "            return float(val)\n",
    "\n",
    "        \n",
    "        "
   ]
  },
  {
   "cell_type": "markdown",
   "id": "03363cc0",
   "metadata": {},
   "source": [
    "Now let us initiate a `DataCleaner` object named `clean_customers`"
   ]
  },
  {
   "cell_type": "code",
   "execution_count": 27,
   "id": "f9380e26",
   "metadata": {
    "pycharm": {
     "name": "#%%\n"
    }
   },
   "outputs": [],
   "source": [
    "clean_customers = DataCleaner(customers)"
   ]
  },
  {
   "cell_type": "markdown",
   "id": "502e75fd",
   "metadata": {},
   "source": [
    "We begin by removing all the rows for which at least 50% of the features are missing, using the `rm_null_rows` method with `p=0.5`. We chose 50% because that is the point for which we believe we can no longer squeeze high quality information."
   ]
  },
  {
   "cell_type": "code",
   "execution_count": 28,
   "id": "3fc0f751",
   "metadata": {},
   "outputs": [
    {
     "name": "stdout",
     "output_type": "stream",
     "text": [
      "This procedure removed 46 rows with at least 50.0% missing features.\n"
     ]
    }
   ],
   "source": [
    "p = 0.5\n",
    "clean_customers.rm_null_rows(p)\n",
    "print(f'This procedure removed {customers.shape[0] - clean_customers.df.shape[0]} rows with at least {100*p}% missing features.')"
   ]
  },
  {
   "cell_type": "markdown",
   "id": "e3f48393",
   "metadata": {},
   "source": [
    "We continue with outliers removal, using the `rm_outliers` method and using its default values. that is, removing all the values which are more than two times larger the 99.9% percentile. The rational behind this choosing is:\n",
    "1. We have a large data set - Making the 99.9% percentile large enough.\n",
    "2. The outlier(s) seen in the boxplot above were incredibly large, while no small (left) outliers were seen present.\n",
    "\n",
    "Referring to item (3) again, we are expecting this method to remove 2 rows."
   ]
  },
  {
   "cell_type": "code",
   "execution_count": 29,
   "id": "707c7323",
   "metadata": {},
   "outputs": [
    {
     "name": "stdout",
     "output_type": "stream",
     "text": [
      "This procedure removed 2 outliers.\n"
     ]
    }
   ],
   "source": [
    "s = clean_customers.df.shape[0]\n",
    "clean_customers.rm_outliers('target_mean')\n",
    "print(f'This procedure removed {s - clean_customers.df.shape[0]} outliers.')"
   ]
  },
  {
   "cell_type": "markdown",
   "id": "aec48be1",
   "metadata": {},
   "source": [
    "Indeed, 2 rows were removed. We now proceed to remove all negative values from the `target_mean` feature. This is because we only have:"
   ]
  },
  {
   "cell_type": "code",
   "execution_count": 30,
   "id": "609364fc",
   "metadata": {},
   "outputs": [
    {
     "name": "stdout",
     "output_type": "stream",
     "text": [
      "10 negative targets, which are about 0.11% of the total targets\n"
     ]
    }
   ],
   "source": [
    "tmp = clean_customers.df.target_mean < 0\n",
    "print(tmp.sum(), ' negative targets, which are about ',\n",
    "      round(tmp.sum()/tmp.count()*100, 2), '% of the total targets', sep='')"
   ]
  },
  {
   "cell_type": "code",
   "execution_count": 31,
   "id": "fc5d3098",
   "metadata": {},
   "outputs": [],
   "source": [
    "clean_customers.rm_negatives('target_mean')"
   ]
  },
  {
   "cell_type": "markdown",
   "id": "0ea10980",
   "metadata": {},
   "source": [
    "Using the `set_na` method, we now fill the `payment_method` nulls with a dedicated character `M`, which stands for \"Missing\". This choosing is reasonable since the possible methods are `A`, `B` and `C`.\n",
    "\n",
    "Moreover, we set all missing values on the `business_nature` column to `Other`, as suggested in the previous item."
   ]
  },
  {
   "cell_type": "code",
   "execution_count": 32,
   "id": "df3d30c2",
   "metadata": {},
   "outputs": [],
   "source": [
    "clean_customers.set_na('payment_method', 'M')\n",
    "clean_customers.set_na('business_nature', 'Other')"
   ]
  },
  {
   "cell_type": "markdown",
   "id": "27150d25",
   "metadata": {},
   "source": [
    "Finally, we take a glimpse at the na heatmap again."
   ]
  },
  {
   "cell_type": "code",
   "execution_count": 33,
   "id": "1c29df5b",
   "metadata": {},
   "outputs": [
    {
     "data": {
      "image/png": "[encoded data removed]",
      "text/plain": [
       "<Figure size 432x288 with 1 Axes>"
      ]
     },
     "metadata": {},
     "output_type": "display_data"
    }
   ],
   "source": [
    "sns.heatmap(clean_customers.df.isnull(), cmap='viridis', yticklabels=False, cbar=False);"
   ]
  },
  {
   "cell_type": "markdown",
   "id": "433fd70d",
   "metadata": {},
   "source": [
    "Based on it and ignoring `target_sd`, we have just a few rows with missing features so we choose to drop them altogether. We can do so easily without worrying about `target_sd` with the `rm_na_except` method. The rational behind leaving null `target_sd` values is that making them `0` will affect their true statistical nature, such as their mean, median, etc. Moreover, the std of one variable is undefined."
   ]
  },
  {
   "cell_type": "code",
   "execution_count": 34,
   "id": "0825cf2c",
   "metadata": {},
   "outputs": [],
   "source": [
    "clean_customers.rm_na_except('target_sd')"
   ]
  },
  {
   "cell_type": "markdown",
   "id": "84cd4085",
   "metadata": {},
   "source": [
    "Moving back to the `company` column, looking at the top 3 values reveals a redundent tab captures(`\\t`). We can clean that column using the pandas built in `str.strip` method."
   ]
  },
  {
   "cell_type": "code",
   "execution_count": 35,
   "id": "eb9c6c0d",
   "metadata": {},
   "outputs": [
    {
     "name": "stdout",
     "output_type": "stream",
     "text": [
      "Before:\n",
      " 9                \\t Cuico Florist Limited\n",
      "10    \\tSincere Finance Holding Limited\\t\n",
      "11      \\t TOPPAN FORMS (HONG KONG) GROUP\n",
      "Name: company, dtype: object \n",
      "\n",
      "After:\n",
      " 9               Cuico Florist Limited\n",
      "10    Sincere Finance Holding Limited\n",
      "11     TOPPAN FORMS (HONG KONG) GROUP\n",
      "Name: company, dtype: object\n"
     ]
    }
   ],
   "source": [
    "print('Before:\\n', clean_customers.df.company.head(3), '\\n')\n",
    "clean_customers.df['company'] = clean_customers.df['company'].str.strip()\n",
    "print('After:\\n', clean_customers.df.company.head(3))"
   ]
  },
  {
   "cell_type": "markdown",
   "id": "dcdf9544",
   "metadata": {},
   "source": [
    "As discussed in item (2), the `id` column is literally a duplicate of the index column and thus, redundent. Consider the `rm_dup_idx` method, used to look for a duplicate index column and remove it, without specifying a specific column!"
   ]
  },
  {
   "cell_type": "code",
   "execution_count": 36,
   "id": "8823b212",
   "metadata": {},
   "outputs": [],
   "source": [
    "clean_customers.rm_dup_idx()"
   ]
  },
  {
   "cell_type": "code",
   "execution_count": 37,
   "id": "fe015c4e",
   "metadata": {},
   "outputs": [
    {
     "data": {
      "image/png": "[encoded data removed]",
      "text/plain": [
       "<Figure size 432x288 with 1 Axes>"
      ]
     },
     "metadata": {},
     "output_type": "display_data"
    }
   ],
   "source": [
    "sns.heatmap(clean_customers.df.isnull(), cmap='viridis', yticklabels=False, cbar=False);"
   ]
  },
  {
   "cell_type": "markdown",
   "id": "851189cd",
   "metadata": {},
   "source": [
    "As for the `company`, `position` columns featuring Mandarin language - Non english values can be easily dropped using regex. However, these rows could be highly valueable to Mandarin readers, or after a translating it. This task, however, will not be done here. These values will be left in the dataframe, making them ready for further analysis, rather then dropped."
   ]
  },
  {
   "cell_type": "markdown",
   "id": "843f7098",
   "metadata": {},
   "source": [
    "We conclude the cleaning proccess, let us update `customers`."
   ]
  },
  {
   "cell_type": "code",
   "execution_count": 38,
   "id": "13169704",
   "metadata": {},
   "outputs": [],
   "source": [
    "customers = clean_customers.df.reset_index(drop=True)"
   ]
  },
  {
   "cell_type": "markdown",
   "id": "584fbd17",
   "metadata": {},
   "source": [
    "## 5. Additional data inference\n",
    "While most of the inference took place in items (2,3), there are a few more things to notice.\n",
    "For starters, we notice that men tend to have greater `target_mean` values:"
   ]
  },
  {
   "cell_type": "code",
   "execution_count": 39,
   "id": "cd114243",
   "metadata": {},
   "outputs": [
    {
     "data": {
      "image/png": "[encoded data removed]",
      "text/plain": [
       "<Figure size 432x288 with 1 Axes>"
      ]
     },
     "metadata": {},
     "output_type": "display_data"
    }
   ],
   "source": [
    "ax = sns.barplot(x='gender', y='target_mean', data=customers.groupby('gender')['target_mean'].mean().reset_index(), palette='RdBu')\n",
    "ax.bar_label(ax.containers[0], size=13, padding=-20)\n",
    "plt.title('Target mean by Gender', size=14);"
   ]
  },
  {
   "cell_type": "markdown",
   "id": "a87e2575",
   "metadata": {},
   "source": [
    "Notice that a lot of the sampled share the same `last_name`. The quick assumption that these are different samples from the same people gets rejected as soon as we take a look at the `first_name` values. This implies many family related participants in our data."
   ]
  },
  {
   "cell_type": "code",
   "execution_count": 40,
   "id": "b0badc65",
   "metadata": {},
   "outputs": [
    {
     "data": {
      "text/plain": [
       "Muhl         819\n",
       "Kerne        730\n",
       "Helie        338\n",
       "Melgarejo    337\n",
       "Koerper      329\n",
       "Name: last_name, dtype: int64"
      ]
     },
     "execution_count": 40,
     "metadata": {},
     "output_type": "execute_result"
    }
   ],
   "source": [
    "customers.last_name.value_counts().head()"
   ]
  },
  {
   "cell_type": "code",
   "execution_count": 41,
   "id": "cefa74d5",
   "metadata": {},
   "outputs": [
    {
     "data": {
      "text/plain": [
       "Louis       51\n",
       "Philip      48\n",
       "Ike         48\n",
       "Winfield    44\n",
       "Harold      43\n",
       "Name: first_name, dtype: int64"
      ]
     },
     "execution_count": 41,
     "metadata": {},
     "output_type": "execute_result"
    }
   ],
   "source": [
    "customers.first_name.value_counts().head()"
   ]
  },
  {
   "cell_type": "markdown",
   "id": "4c28edff",
   "metadata": {},
   "source": [
    "Investigating relations between numeric feature, like the table below:"
   ]
  },
  {
   "cell_type": "code",
   "execution_count": 42,
   "id": "162ae8d2",
   "metadata": {},
   "outputs": [
    {
     "data": {
      "image/png": "[encoded data removed]",
      "text/plain": [
       "<Figure size 432x432 with 3 Axes>"
      ]
     },
     "metadata": {},
     "output_type": "display_data"
    }
   ],
   "source": [
    "sns.jointplot(x='age', y='target_mean', hue='gender', data=customers, palette='RdBu');"
   ]
  },
  {
   "cell_type": "markdown",
   "id": "e9c489cd",
   "metadata": {},
   "source": [
    "Wouldn't say much, because of the low correlations presented in item(3). That being said, we conclude our inference."
   ]
  },
  {
   "cell_type": "markdown",
   "id": "a1a6b941",
   "metadata": {},
   "source": [
    "## 6. Additional features\n",
    "If one could scrape additional data from the web, the features I would seek for the given `customers` dataframe are:\n",
    "1. A dictionary, which mapps the specific Mandarin values in both `company` and `position` columns.\n",
    "2. A `country` feature, indicating where the sampled are from. This way we could group by country and infer even more - such as predicting whether certain countries ban a certain `payment_method`.\n",
    "3. A `Seniority` feature, indicating the amount of time (in years) the sampled serves in his position.\n",
    "4. A dummy `Married` feature (1 for married, 0 for not married)\n",
    "\n",
    "While the 1st suggestion won't cause problems, fitting the `country` feature could be difficult. In other words, how can we tell determine a sampled country? maybe based on his Company's nationality? But what if this company is worldwide? Maybe based on the ending of the domain (such as 'hk') + `company` + `last_name`? It still isn't guarenteed at all.\n",
    "\n",
    "In general, adding additional features is a relative hard task. That is because we don't have reference to existing assignments (labels). For example, we could try to predict the missing `payment_method` values based on the other features by looking at other samples and investigating the relations between this feature to the other features. However, when adding completely new features, we don't have labels so unless there is another source we can rely on, this task is problematic."
   ]
  },
  {
   "cell_type": "markdown",
   "id": "061d0625",
   "metadata": {},
   "source": [
    "# Company Dataset"
   ]
  },
  {
   "cell_type": "markdown",
   "id": "d2d26a24",
   "metadata": {},
   "source": [
    "## 7. Data summary and Cleaning"
   ]
  },
  {
   "cell_type": "code",
   "execution_count": 43,
   "id": "6eaa0c46",
   "metadata": {},
   "outputs": [
    {
     "data": {
      "text/html": [
       "<div>\n",
       "<style scoped>\n",
       "    .dataframe tbody tr th:only-of-type {\n",
       "        vertical-align: middle;\n",
       "    }\n",
       "\n",
       "    .dataframe tbody tr th {\n",
       "        vertical-align: top;\n",
       "    }\n",
       "\n",
       "    .dataframe thead th {\n",
       "        text-align: right;\n",
       "    }\n",
       "</style>\n",
       "<table border=\"1\" class=\"dataframe\">\n",
       "  <thead>\n",
       "    <tr style=\"text-align: right;\">\n",
       "      <th></th>\n",
       "      <th>company_id</th>\n",
       "      <th>name</th>\n",
       "      <th>domain</th>\n",
       "      <th>business_nature</th>\n",
       "      <th>employee_number</th>\n",
       "      <th>type</th>\n",
       "      <th>market_cap</th>\n",
       "    </tr>\n",
       "  </thead>\n",
       "  <tbody>\n",
       "    <tr>\n",
       "      <th>0</th>\n",
       "      <td>\"00123122\"</td>\n",
       "      <td>HSBC</td>\n",
       "      <td>www.hsbc.com/</td>\n",
       "      <td>banking</td>\n",
       "      <td>226059</td>\n",
       "      <td>public</td>\n",
       "      <td>78.45billion</td>\n",
       "    </tr>\n",
       "    <tr>\n",
       "      <th>1</th>\n",
       "      <td>878434523</td>\n",
       "      <td>AIA</td>\n",
       "      <td>www.aia.com</td>\n",
       "      <td>insurance</td>\n",
       "      <td>0</td>\n",
       "      <td>public</td>\n",
       "      <td>1.12T</td>\n",
       "    </tr>\n",
       "    <tr>\n",
       "      <th>2</th>\n",
       "      <td>3423656</td>\n",
       "      <td>MTR</td>\n",
       "      <td>http://www.mtr.com.hk/en/customer/main/index.html</td>\n",
       "      <td>Railway</td>\n",
       "      <td>28035</td>\n",
       "      <td>public</td>\n",
       "      <td>271B</td>\n",
       "    </tr>\n",
       "    <tr>\n",
       "      <th>3</th>\n",
       "      <td>452352</td>\n",
       "      <td>PCCW</td>\n",
       "      <td>http://www.pccw.com/</td>\n",
       "      <td>communications</td>\n",
       "      <td>22800</td>\n",
       "      <td>public</td>\n",
       "      <td>31.6001B</td>\n",
       "    </tr>\n",
       "    <tr>\n",
       "      <th>4</th>\n",
       "      <td>4342ff34</td>\n",
       "      <td>HKT</td>\n",
       "      <td>hkt.com</td>\n",
       "      <td>Telecom</td>\n",
       "      <td>\"15900.00\"</td>\n",
       "      <td>public</td>\n",
       "      <td>$80.45B</td>\n",
       "    </tr>\n",
       "    <tr>\n",
       "      <th>5</th>\n",
       "      <td>534534</td>\n",
       "      <td>Manulife</td>\n",
       "      <td>https://www.manulife.com/</td>\n",
       "      <td>insurance</td>\n",
       "      <td>34000</td>\n",
       "      <td>public</td>\n",
       "      <td>$47.4 billion</td>\n",
       "    </tr>\n",
       "    <tr>\n",
       "      <th>6</th>\n",
       "      <td>232131</td>\n",
       "      <td>Cathay Pacific Airways</td>\n",
       "      <td>www.cathaypacific.com</td>\n",
       "      <td>airline</td>\n",
       "      <td>35000</td>\n",
       "      <td>public</td>\n",
       "      <td>$42.29 B</td>\n",
       "    </tr>\n",
       "    <tr>\n",
       "      <th>7</th>\n",
       "      <td>123555342</td>\n",
       "      <td>Hong Kong Police Force</td>\n",
       "      <td>https://www.police.gov.hk</td>\n",
       "      <td>law enforcement</td>\n",
       "      <td>36681</td>\n",
       "      <td>government</td>\n",
       "      <td>NaN</td>\n",
       "    </tr>\n",
       "    <tr>\n",
       "      <th>8</th>\n",
       "      <td>621621320</td>\n",
       "      <td>KPMG</td>\n",
       "      <td>home.kpmg</td>\n",
       "      <td>consulting</td>\n",
       "      <td>227000</td>\n",
       "      <td>NaN</td>\n",
       "      <td>NaN</td>\n",
       "    </tr>\n",
       "    <tr>\n",
       "      <th>9</th>\n",
       "      <td>998411df</td>\n",
       "      <td>HAECO</td>\n",
       "      <td>www.haeco.com</td>\n",
       "      <td>\\tAerospace</td>\n",
       "      <td>16641</td>\n",
       "      <td>public</td>\n",
       "      <td>NaN</td>\n",
       "    </tr>\n",
       "    <tr>\n",
       "      <th>10</th>\n",
       "      <td>df879987</td>\n",
       "      <td>Prudential</td>\n",
       "      <td>https://www.prudential.com/</td>\n",
       "      <td>insurance</td>\n",
       "      <td>41671</td>\n",
       "      <td>public</td>\n",
       "      <td>40.49B</td>\n",
       "    </tr>\n",
       "  </tbody>\n",
       "</table>\n",
       "</div>"
      ],
      "text/plain": [
       "    company_id                    name  \\\n",
       "0   \"00123122\"                    HSBC   \n",
       "1    878434523                     AIA   \n",
       "2      3423656                     MTR   \n",
       "3       452352                    PCCW   \n",
       "4     4342ff34                     HKT   \n",
       "5       534534                Manulife   \n",
       "6       232131  Cathay Pacific Airways   \n",
       "7    123555342  Hong Kong Police Force   \n",
       "8    621621320                    KPMG   \n",
       "9     998411df                   HAECO   \n",
       "10    df879987              Prudential   \n",
       "\n",
       "                                               domain  business_nature  \\\n",
       "0                                       www.hsbc.com/          banking   \n",
       "1                                         www.aia.com       insurance    \n",
       "2   http://www.mtr.com.hk/en/customer/main/index.html          Railway   \n",
       "3                                http://www.pccw.com/  communications    \n",
       "4                                             hkt.com          Telecom   \n",
       "5                           https://www.manulife.com/       insurance    \n",
       "6                               www.cathaypacific.com          airline   \n",
       "7                           https://www.police.gov.hk  law enforcement   \n",
       "8                                           home.kpmg      consulting    \n",
       "9                                       www.haeco.com      \\tAerospace   \n",
       "10                        https://www.prudential.com/        insurance   \n",
       "\n",
       "   employee_number        type     market_cap  \n",
       "0           226059      public   78.45billion  \n",
       "1                0      public          1.12T  \n",
       "2            28035      public           271B  \n",
       "3            22800      public       31.6001B  \n",
       "4       \"15900.00\"      public        $80.45B  \n",
       "5            34000      public  $47.4 billion  \n",
       "6            35000      public       $42.29 B  \n",
       "7            36681  government            NaN  \n",
       "8           227000         NaN            NaN  \n",
       "9            16641      public            NaN  \n",
       "10           41671      public         40.49B  "
      ]
     },
     "execution_count": 43,
     "metadata": {},
     "output_type": "execute_result"
    }
   ],
   "source": [
    "companies = pd.read_excel('companies.xlsx')\n",
    "companies"
   ]
  },
  {
   "cell_type": "code",
   "execution_count": 44,
   "id": "48658725",
   "metadata": {},
   "outputs": [
    {
     "name": "stdout",
     "output_type": "stream",
     "text": [
      "<class 'pandas.core.frame.DataFrame'>\n",
      "RangeIndex: 11 entries, 0 to 10\n",
      "Data columns (total 7 columns):\n",
      " #   Column           Non-Null Count  Dtype \n",
      "---  ------           --------------  ----- \n",
      " 0   company_id       11 non-null     object\n",
      " 1   name             11 non-null     object\n",
      " 2   domain           11 non-null     object\n",
      " 3   business_nature  11 non-null     object\n",
      " 4   employee_number  11 non-null     object\n",
      " 5   type             10 non-null     object\n",
      " 6   market_cap       8 non-null      object\n",
      "dtypes: object(7)\n",
      "memory usage: 744.0+ bytes\n"
     ]
    }
   ],
   "source": [
    "companies.info()"
   ]
  },
  {
   "cell_type": "markdown",
   "id": "35a30544",
   "metadata": {},
   "source": [
    "We notice only 11 entries, all of them of type `object`. We begin by doing some cleaning tasks:\n",
    "1. Convert the `employee_number` to `int`\n",
    "1. Stripping `company_id` of `\"`.\n",
    "2. Stripping `business_nature` of `\\t`.\n",
    "3. Adding `domain_pure` feature for cleaner domain rather then a website address. Notice how we take care of (index 2) privately, because its more complex.\n",
    "4. Setting (index 8) company `type` to public, because of its large amount of employees and the fact that most of the companies are public.\n",
    "\n",
    "Notice how we don't concern ourselves about these specific cases nor building new methods for them because this data is small. As future data scientists, we need to dedicate our time for the important stuff.\n"
   ]
  },
  {
   "cell_type": "code",
   "execution_count": 45,
   "id": "c7867a29",
   "metadata": {},
   "outputs": [],
   "source": [
    "companies['employee_number'] = companies.employee_number.astype(str).str.strip('\"\"').astype(float).astype(int)\n",
    "companies['company_id'] = companies.company_id.astype(str).str.strip('\"\"')\n",
    "companies['business_nature'] = companies.business_nature.str.strip()\n",
    "companies.insert(3, 'domain_pure', companies.domain.str.rstrip('/').str.replace('http://www.|https://|www.|/en/customer/main/index.html', '', regex=True))\n",
    "companies['type'] = companies['type'].fillna('public')"
   ]
  },
  {
   "cell_type": "markdown",
   "id": "a5d5bbd4",
   "metadata": {},
   "source": [
    "Now, for the more massive cleaning tasks, such as cleaning the `market_cap` feature and converting it to the same size (we choose billions), we initiate a new DataCleaner object and run the dedicated `to_dollars()` method. <br>\n",
    "Also, consider the `zero_fill()` method, used to pad all the `company_id` entries with zeros in such a way that all of the ids will have the same minimal length. You can check the docstring for more information."
   ]
  },
  {
   "cell_type": "code",
   "execution_count": 46,
   "id": "6ad56996",
   "metadata": {},
   "outputs": [],
   "source": [
    "companies_c = DataCleaner(companies)\n",
    "companies_c.to_dollars('market_cap')\n",
    "companies_c.zero_fill('company_id')"
   ]
  },
  {
   "cell_type": "markdown",
   "id": "2a89e236",
   "metadata": {},
   "source": [
    "In addition, there is no smart way to predict the `market_cap` for the missing entries, Hence we conclude our cleaning proccess with a quick look on our cleaned dataframe."
   ]
  },
  {
   "cell_type": "code",
   "execution_count": 47,
   "id": "f03a10b4",
   "metadata": {},
   "outputs": [
    {
     "data": {
      "text/html": [
       "<div>\n",
       "<style scoped>\n",
       "    .dataframe tbody tr th:only-of-type {\n",
       "        vertical-align: middle;\n",
       "    }\n",
       "\n",
       "    .dataframe tbody tr th {\n",
       "        vertical-align: top;\n",
       "    }\n",
       "\n",
       "    .dataframe thead th {\n",
       "        text-align: right;\n",
       "    }\n",
       "</style>\n",
       "<table border=\"1\" class=\"dataframe\">\n",
       "  <thead>\n",
       "    <tr style=\"text-align: right;\">\n",
       "      <th></th>\n",
       "      <th>company_id</th>\n",
       "      <th>name</th>\n",
       "      <th>domain</th>\n",
       "      <th>domain_pure</th>\n",
       "      <th>business_nature</th>\n",
       "      <th>employee_number</th>\n",
       "      <th>type</th>\n",
       "      <th>market_cap</th>\n",
       "    </tr>\n",
       "  </thead>\n",
       "  <tbody>\n",
       "    <tr>\n",
       "      <th>0</th>\n",
       "      <td>000123122</td>\n",
       "      <td>HSBC</td>\n",
       "      <td>www.hsbc.com/</td>\n",
       "      <td>hsbc.com</td>\n",
       "      <td>banking</td>\n",
       "      <td>226059</td>\n",
       "      <td>public</td>\n",
       "      <td>78.4500</td>\n",
       "    </tr>\n",
       "    <tr>\n",
       "      <th>1</th>\n",
       "      <td>878434523</td>\n",
       "      <td>AIA</td>\n",
       "      <td>www.aia.com</td>\n",
       "      <td>aia.com</td>\n",
       "      <td>insurance</td>\n",
       "      <td>0</td>\n",
       "      <td>public</td>\n",
       "      <td>1120.0000</td>\n",
       "    </tr>\n",
       "    <tr>\n",
       "      <th>2</th>\n",
       "      <td>003423656</td>\n",
       "      <td>MTR</td>\n",
       "      <td>http://www.mtr.com.hk/en/customer/main/index.html</td>\n",
       "      <td>mtr.com.hk</td>\n",
       "      <td>Railway</td>\n",
       "      <td>28035</td>\n",
       "      <td>public</td>\n",
       "      <td>271.0000</td>\n",
       "    </tr>\n",
       "    <tr>\n",
       "      <th>3</th>\n",
       "      <td>000452352</td>\n",
       "      <td>PCCW</td>\n",
       "      <td>http://www.pccw.com/</td>\n",
       "      <td>pccw.com</td>\n",
       "      <td>communications</td>\n",
       "      <td>22800</td>\n",
       "      <td>public</td>\n",
       "      <td>31.6001</td>\n",
       "    </tr>\n",
       "    <tr>\n",
       "      <th>4</th>\n",
       "      <td>04342ff34</td>\n",
       "      <td>HKT</td>\n",
       "      <td>hkt.com</td>\n",
       "      <td>hkt.com</td>\n",
       "      <td>Telecom</td>\n",
       "      <td>15900</td>\n",
       "      <td>public</td>\n",
       "      <td>80.4500</td>\n",
       "    </tr>\n",
       "    <tr>\n",
       "      <th>5</th>\n",
       "      <td>000534534</td>\n",
       "      <td>Manulife</td>\n",
       "      <td>https://www.manulife.com/</td>\n",
       "      <td>manulife.com</td>\n",
       "      <td>insurance</td>\n",
       "      <td>34000</td>\n",
       "      <td>public</td>\n",
       "      <td>47.4000</td>\n",
       "    </tr>\n",
       "    <tr>\n",
       "      <th>6</th>\n",
       "      <td>000232131</td>\n",
       "      <td>Cathay Pacific Airways</td>\n",
       "      <td>www.cathaypacific.com</td>\n",
       "      <td>cathaypacific.com</td>\n",
       "      <td>airline</td>\n",
       "      <td>35000</td>\n",
       "      <td>public</td>\n",
       "      <td>42.2900</td>\n",
       "    </tr>\n",
       "    <tr>\n",
       "      <th>7</th>\n",
       "      <td>123555342</td>\n",
       "      <td>Hong Kong Police Force</td>\n",
       "      <td>https://www.police.gov.hk</td>\n",
       "      <td>police.gov.hk</td>\n",
       "      <td>law enforcement</td>\n",
       "      <td>36681</td>\n",
       "      <td>government</td>\n",
       "      <td>NaN</td>\n",
       "    </tr>\n",
       "    <tr>\n",
       "      <th>8</th>\n",
       "      <td>621621320</td>\n",
       "      <td>KPMG</td>\n",
       "      <td>home.kpmg</td>\n",
       "      <td>home.kpmg</td>\n",
       "      <td>consulting</td>\n",
       "      <td>227000</td>\n",
       "      <td>public</td>\n",
       "      <td>NaN</td>\n",
       "    </tr>\n",
       "    <tr>\n",
       "      <th>9</th>\n",
       "      <td>0998411df</td>\n",
       "      <td>HAECO</td>\n",
       "      <td>www.haeco.com</td>\n",
       "      <td>haeco.com</td>\n",
       "      <td>Aerospace</td>\n",
       "      <td>16641</td>\n",
       "      <td>public</td>\n",
       "      <td>NaN</td>\n",
       "    </tr>\n",
       "    <tr>\n",
       "      <th>10</th>\n",
       "      <td>0df879987</td>\n",
       "      <td>Prudential</td>\n",
       "      <td>https://www.prudential.com/</td>\n",
       "      <td>prudential.com</td>\n",
       "      <td>insurance</td>\n",
       "      <td>41671</td>\n",
       "      <td>public</td>\n",
       "      <td>40.4900</td>\n",
       "    </tr>\n",
       "  </tbody>\n",
       "</table>\n",
       "</div>"
      ],
      "text/plain": [
       "   company_id                    name  \\\n",
       "0   000123122                    HSBC   \n",
       "1   878434523                     AIA   \n",
       "2   003423656                     MTR   \n",
       "3   000452352                    PCCW   \n",
       "4   04342ff34                     HKT   \n",
       "5   000534534                Manulife   \n",
       "6   000232131  Cathay Pacific Airways   \n",
       "7   123555342  Hong Kong Police Force   \n",
       "8   621621320                    KPMG   \n",
       "9   0998411df                   HAECO   \n",
       "10  0df879987              Prudential   \n",
       "\n",
       "                                               domain        domain_pure  \\\n",
       "0                                       www.hsbc.com/           hsbc.com   \n",
       "1                                         www.aia.com            aia.com   \n",
       "2   http://www.mtr.com.hk/en/customer/main/index.html         mtr.com.hk   \n",
       "3                                http://www.pccw.com/           pccw.com   \n",
       "4                                             hkt.com            hkt.com   \n",
       "5                           https://www.manulife.com/       manulife.com   \n",
       "6                               www.cathaypacific.com  cathaypacific.com   \n",
       "7                           https://www.police.gov.hk      police.gov.hk   \n",
       "8                                           home.kpmg          home.kpmg   \n",
       "9                                       www.haeco.com          haeco.com   \n",
       "10                        https://www.prudential.com/     prudential.com   \n",
       "\n",
       "    business_nature  employee_number        type  market_cap  \n",
       "0           banking           226059      public     78.4500  \n",
       "1         insurance                0      public   1120.0000  \n",
       "2           Railway            28035      public    271.0000  \n",
       "3    communications            22800      public     31.6001  \n",
       "4           Telecom            15900      public     80.4500  \n",
       "5         insurance            34000      public     47.4000  \n",
       "6           airline            35000      public     42.2900  \n",
       "7   law enforcement            36681  government         NaN  \n",
       "8        consulting           227000      public         NaN  \n",
       "9         Aerospace            16641      public         NaN  \n",
       "10        insurance            41671      public     40.4900  "
      ]
     },
     "execution_count": 47,
     "metadata": {},
     "output_type": "execute_result"
    }
   ],
   "source": [
    "companies = companies_c.df\n",
    "companies"
   ]
  },
  {
   "cell_type": "markdown",
   "id": "db3a63e3",
   "metadata": {},
   "source": [
    "### Data Inference\n",
    "We explore the `market_cap` along the companies who have this value."
   ]
  },
  {
   "cell_type": "code",
   "execution_count": 48,
   "id": "2146b0ca",
   "metadata": {},
   "outputs": [
    {
     "data": {
      "image/png": "[encoded data removed]",
      "text/plain": [
       "<Figure size 864x432 with 1 Axes>"
      ]
     },
     "metadata": {},
     "output_type": "display_data"
    }
   ],
   "source": [
    "sns.set_style('darkgrid')\n",
    "plt.figure(figsize=(12,6))\n",
    "ax = sns.barplot(x='name',  y='market_cap', data=companies.sort_values('market_cap', ascending=False).dropna())\n",
    "plt.title('Market Cap by Company', size=20)\n",
    "plt.xlabel('')\n",
    "plt.ylabel('Market Cap (Billion $)', size=12)\n",
    "ax.bar_label(ax.containers[0]);"
   ]
  },
  {
   "cell_type": "markdown",
   "id": "4c5448a9",
   "metadata": {},
   "source": [
    "Ignoring the `employee_number` for the `A/A` company (which is obiously a mistake), we check for correlation between the amount of employees and the market cap:"
   ]
  },
  {
   "cell_type": "code",
   "execution_count": 49,
   "id": "e2cd32c2",
   "metadata": {},
   "outputs": [
    {
     "data": {
      "text/html": [
       "<div>\n",
       "<style scoped>\n",
       "    .dataframe tbody tr th:only-of-type {\n",
       "        vertical-align: middle;\n",
       "    }\n",
       "\n",
       "    .dataframe tbody tr th {\n",
       "        vertical-align: top;\n",
       "    }\n",
       "\n",
       "    .dataframe thead th {\n",
       "        text-align: right;\n",
       "    }\n",
       "</style>\n",
       "<table border=\"1\" class=\"dataframe\">\n",
       "  <thead>\n",
       "    <tr style=\"text-align: right;\">\n",
       "      <th></th>\n",
       "      <th>employee_number</th>\n",
       "      <th>market_cap</th>\n",
       "    </tr>\n",
       "  </thead>\n",
       "  <tbody>\n",
       "    <tr>\n",
       "      <th>employee_number</th>\n",
       "      <td>1.000000</td>\n",
       "      <td>-0.052651</td>\n",
       "    </tr>\n",
       "    <tr>\n",
       "      <th>market_cap</th>\n",
       "      <td>-0.052651</td>\n",
       "      <td>1.000000</td>\n",
       "    </tr>\n",
       "  </tbody>\n",
       "</table>\n",
       "</div>"
      ],
      "text/plain": [
       "                 employee_number  market_cap\n",
       "employee_number         1.000000   -0.052651\n",
       "market_cap             -0.052651    1.000000"
      ]
     },
     "execution_count": 49,
     "metadata": {},
     "output_type": "execute_result"
    }
   ],
   "source": [
    "companies.drop(1).corr()"
   ]
  },
  {
   "cell_type": "markdown",
   "id": "7c20bb30",
   "metadata": {},
   "source": [
    "The correlation table above implies (almost) no connection between the two. for this reason, we can't predict the missing `employee_number` nor the missing `market_cap` values.\n",
    "We end our inference here."
   ]
  },
  {
   "cell_type": "markdown",
   "id": "f563cb7a",
   "metadata": {},
   "source": [
    "## 8. Missing Values and Outliers\n",
    "While we already handled the missing `type` value, we see no point of filling the missing `market_cap` values.\n",
    "We choose not to consider `A/A` as an outlier, even though it is problematic (and also has 0 employees). The reason for this is that 1.2T market cap is reasonable (Apple is estimated at 2.4T atm) and the fact that we only have a small amount of companies, making every little piece of information useful."
   ]
  },
  {
   "cell_type": "markdown",
   "id": "d40c91e0",
   "metadata": {},
   "source": [
    "## 9 + 10. Aggregation\n",
    "We begin by creating a subset of `customers`, which inludes all the companies in `companies`. <br>\n",
    "We also create an empty dataframe `companies_agg` which will include all the desired aggregated features we choose."
   ]
  },
  {
   "cell_type": "code",
   "execution_count": 50,
   "id": "7e4a1e50",
   "metadata": {},
   "outputs": [
    {
     "data": {
      "text/html": [
       "<div>\n",
       "<style scoped>\n",
       "    .dataframe tbody tr th:only-of-type {\n",
       "        vertical-align: middle;\n",
       "    }\n",
       "\n",
       "    .dataframe tbody tr th {\n",
       "        vertical-align: top;\n",
       "    }\n",
       "\n",
       "    .dataframe thead th {\n",
       "        text-align: right;\n",
       "    }\n",
       "</style>\n",
       "<table border=\"1\" class=\"dataframe\">\n",
       "  <thead>\n",
       "    <tr style=\"text-align: right;\">\n",
       "      <th></th>\n",
       "      <th>age</th>\n",
       "      <th>gender</th>\n",
       "      <th>email</th>\n",
       "      <th>provider</th>\n",
       "      <th>business_nature</th>\n",
       "      <th>company</th>\n",
       "      <th>position</th>\n",
       "      <th>payment_method</th>\n",
       "      <th>targets</th>\n",
       "      <th>first_name</th>\n",
       "      <th>last_name</th>\n",
       "      <th>target_mean</th>\n",
       "      <th>target_sd</th>\n",
       "      <th>target_count</th>\n",
       "    </tr>\n",
       "  </thead>\n",
       "  <tbody>\n",
       "    <tr>\n",
       "      <th>182</th>\n",
       "      <td>32</td>\n",
       "      <td>Male</td>\n",
       "      <td>123.com</td>\n",
       "      <td>123</td>\n",
       "      <td>Insurance</td>\n",
       "      <td>AIA</td>\n",
       "      <td>財務策劃</td>\n",
       "      <td>A</td>\n",
       "      <td>25973.69;25777.53</td>\n",
       "      <td>Noah</td>\n",
       "      <td>Brittin</td>\n",
       "      <td>25875.610000</td>\n",
       "      <td>138.706066</td>\n",
       "      <td>2</td>\n",
       "    </tr>\n",
       "    <tr>\n",
       "      <th>184</th>\n",
       "      <td>27</td>\n",
       "      <td>Male</td>\n",
       "      <td>gmail.com</td>\n",
       "      <td>gmail</td>\n",
       "      <td>Insurance</td>\n",
       "      <td>AIA</td>\n",
       "      <td>保險從業員</td>\n",
       "      <td>C</td>\n",
       "      <td>20663.90;21287.92;20578.57;21064.76</td>\n",
       "      <td>Thomas</td>\n",
       "      <td>Kerne</td>\n",
       "      <td>20898.787500</td>\n",
       "      <td>335.003661</td>\n",
       "      <td>4</td>\n",
       "    </tr>\n",
       "    <tr>\n",
       "      <th>185</th>\n",
       "      <td>38</td>\n",
       "      <td>Male</td>\n",
       "      <td>hotmail.com</td>\n",
       "      <td>hotmail</td>\n",
       "      <td>Insurance</td>\n",
       "      <td>AIA</td>\n",
       "      <td>Agent</td>\n",
       "      <td>A</td>\n",
       "      <td>53673.65</td>\n",
       "      <td>Norman</td>\n",
       "      <td>Bloeser</td>\n",
       "      <td>53673.650000</td>\n",
       "      <td>NaN</td>\n",
       "      <td>1</td>\n",
       "    </tr>\n",
       "    <tr>\n",
       "      <th>186</th>\n",
       "      <td>57</td>\n",
       "      <td>Male</td>\n",
       "      <td>gmail.com</td>\n",
       "      <td>gmail</td>\n",
       "      <td>Professional Services / Consultation</td>\n",
       "      <td>AIA</td>\n",
       "      <td>資深區域經理</td>\n",
       "      <td>M</td>\n",
       "      <td>88045.98;89205.93</td>\n",
       "      <td>Gilbert</td>\n",
       "      <td>Bloeser</td>\n",
       "      <td>88625.955000</td>\n",
       "      <td>820.208511</td>\n",
       "      <td>2</td>\n",
       "    </tr>\n",
       "    <tr>\n",
       "      <th>187</th>\n",
       "      <td>25</td>\n",
       "      <td>Male</td>\n",
       "      <td>gmail.com</td>\n",
       "      <td>gmail</td>\n",
       "      <td>Insurance</td>\n",
       "      <td>AIA</td>\n",
       "      <td>Finacial planner</td>\n",
       "      <td>A</td>\n",
       "      <td>17846.35;17937.26;17750.30</td>\n",
       "      <td>Fredrick</td>\n",
       "      <td>Araque</td>\n",
       "      <td>17844.636667</td>\n",
       "      <td>93.491775</td>\n",
       "      <td>3</td>\n",
       "    </tr>\n",
       "  </tbody>\n",
       "</table>\n",
       "</div>"
      ],
      "text/plain": [
       "     age gender        email provider                       business_nature  \\\n",
       "182   32   Male      123.com      123                             Insurance   \n",
       "184   27   Male    gmail.com    gmail                             Insurance   \n",
       "185   38   Male  hotmail.com  hotmail                             Insurance   \n",
       "186   57   Male    gmail.com    gmail  Professional Services / Consultation   \n",
       "187   25   Male    gmail.com    gmail                             Insurance   \n",
       "\n",
       "    company          position payment_method  \\\n",
       "182     AIA              財務策劃              A   \n",
       "184     AIA             保險從業員              C   \n",
       "185     AIA             Agent              A   \n",
       "186     AIA            資深區域經理              M   \n",
       "187     AIA  Finacial planner              A   \n",
       "\n",
       "                                 targets first_name last_name   target_mean  \\\n",
       "182                    25973.69;25777.53       Noah   Brittin  25875.610000   \n",
       "184  20663.90;21287.92;20578.57;21064.76     Thomas     Kerne  20898.787500   \n",
       "185                             53673.65     Norman   Bloeser  53673.650000   \n",
       "186                    88045.98;89205.93    Gilbert   Bloeser  88625.955000   \n",
       "187           17846.35;17937.26;17750.30   Fredrick    Araque  17844.636667   \n",
       "\n",
       "      target_sd  target_count  \n",
       "182  138.706066             2  \n",
       "184  335.003661             4  \n",
       "185         NaN             1  \n",
       "186  820.208511             2  \n",
       "187   93.491775             3  "
      ]
     },
     "execution_count": 50,
     "metadata": {},
     "output_type": "execute_result"
    }
   ],
   "source": [
    "cust_comp = customers[customers.company.isin(companies.name)]\n",
    "companies_agg = pd.DataFrame()\n",
    "cust_comp.head()"
   ]
  },
  {
   "cell_type": "code",
   "execution_count": 51,
   "id": "30fad12b",
   "metadata": {},
   "outputs": [
    {
     "name": "stdout",
     "output_type": "stream",
     "text": [
      "This dataframe has 159 rows,\n",
      "And has 11 unique companies as expected.\n"
     ]
    }
   ],
   "source": [
    "print(f'This dataframe has {cust_comp.shape[0]} rows,')\n",
    "print(f'And has {cust_comp.company.nunique()} unique companies as expected.')"
   ]
  },
  {
   "cell_type": "code",
   "execution_count": 52,
   "id": "6b7f722b",
   "metadata": {},
   "outputs": [
    {
     "data": {
      "image/png": "[encoded data removed]",
      "text/plain": [
       "<Figure size 576x432 with 1 Axes>"
      ]
     },
     "metadata": {},
     "output_type": "display_data"
    }
   ],
   "source": [
    "sns.set_style('whitegrid')\n",
    "plt.figure(figsize=(8,6))\n",
    "sns.countplot(y=cust_comp.company.sort_values(), color='darkblue', order=cust_comp.company.value_counts().index)\n",
    "plt.xlabel('Employees')\n",
    "plt.title('Sampled Employees per Company', size=20);"
   ]
  },
  {
   "cell_type": "markdown",
   "id": "b9dc8391",
   "metadata": {},
   "source": [
    "The above plot confirms that `A/A` indeed has employees. We Choose to include this information in `companies_agg` under `sampled_employees` column.<br> \n",
    "We now check the average employee `age` per company. It seems that `HAECO` hiers mostly young people, while the HK police force feature older employees. We add this aggregation as well under `avg_employee_age`."
   ]
  },
  {
   "cell_type": "code",
   "execution_count": 53,
   "id": "df605b9a",
   "metadata": {},
   "outputs": [
    {
     "data": {
      "image/png": "[encoded data removed]",
      "text/plain": [
       "<Figure size 648x432 with 1 Axes>"
      ]
     },
     "metadata": {},
     "output_type": "display_data"
    }
   ],
   "source": [
    "cust_comp.groupby('company')['age'].mean().sort_values().plot.barh(figsize=(9,6))\n",
    "plt.title('Average Employee Age per Company', size=18)\n",
    "plt.xlabel('Age')\n",
    "plt.ylabel('');"
   ]
  },
  {
   "cell_type": "code",
   "execution_count": 54,
   "id": "ce7ca46b",
   "metadata": {},
   "outputs": [],
   "source": [
    "companies_agg['sampled_employees'] = cust_comp.groupby('company')['age'].count()\n",
    "companies_agg['avg_employee_age'] = round(cust_comp.groupby('company')['age'].mean(), 2)"
   ]
  },
  {
   "cell_type": "markdown",
   "id": "0de5fca9",
   "metadata": {},
   "source": [
    "We also check the range of the ages per company. Though, we are not interested of adding it to our aggregated dataframe."
   ]
  },
  {
   "cell_type": "code",
   "execution_count": 55,
   "id": "d695298e",
   "metadata": {},
   "outputs": [
    {
     "data": {
      "image/png": "[encoded data removed]",
      "text/plain": [
       "<Figure size 1152x432 with 1 Axes>"
      ]
     },
     "metadata": {},
     "output_type": "display_data"
    }
   ],
   "source": [
    "sns.set_style('darkgrid')\n",
    "plt.figure(figsize=(16,6))\n",
    "tmp = cust_comp.groupby('company')['age'].describe()[['min', 'max']].reset_index()\n",
    "sns.scatterplot(x='company', y='max', data=tmp, label='Max Age', s=60, color='g')\n",
    "plt.scatter(x=tmp['company'], y=tmp['min'], label='Min Age', color='r')\n",
    "plt.xlabel('')\n",
    "plt.ylabel('')\n",
    "plt.legend(fontsize=13)\n",
    "plt.title('Age Range per Company', size=18)\n",
    "plt.ylabel('Age');"
   ]
  },
  {
   "cell_type": "markdown",
   "id": "aa6e091c",
   "metadata": {},
   "source": [
    "As for the average `target_mean` values per company, the barplot below illustrates the distribution very nicely. This is added to our aggregated dataframe under `avg_employee_target`. We also add the average `target_count` per company as `avg_target_count`."
   ]
  },
  {
   "cell_type": "code",
   "execution_count": 56,
   "id": "c351f5f2",
   "metadata": {},
   "outputs": [
    {
     "data": {
      "image/png": "[encoded data removed]",
      "text/plain": [
       "<Figure size 504x288 with 1 Axes>"
      ]
     },
     "metadata": {},
     "output_type": "display_data"
    }
   ],
   "source": [
    "cust_comp.groupby('company')['target_mean'].mean().sort_values(ascending=False).plot.bar(figsize=(7,4), color='darkgreen')\n",
    "plt.xlabel('')\n",
    "plt.ylabel('Target mean')\n",
    "plt.title('Average Target per Company', size=15);"
   ]
  },
  {
   "cell_type": "code",
   "execution_count": 57,
   "id": "21624342",
   "metadata": {},
   "outputs": [],
   "source": [
    "companies_agg['avg_employee_target'] = round(cust_comp.groupby('company')['target_mean'].mean(), 2)\n",
    "companies_agg['avg_target_count'] = round(cust_comp.groupby('company')['target_count'].mean(), 2)"
   ]
  },
  {
   "cell_type": "markdown",
   "id": "9a46f81f",
   "metadata": {},
   "source": [
    "We now plot the `payment_method` distribution along these companies. The distribution is close to the one we had on item(3) on all companies."
   ]
  },
  {
   "cell_type": "code",
   "execution_count": 58,
   "id": "27183ecd",
   "metadata": {},
   "outputs": [
    {
     "data": {
      "image/png": "[encoded data removed]",
      "text/plain": [
       "<Figure size 1008x432 with 1 Axes>"
      ]
     },
     "metadata": {},
     "output_type": "display_data"
    }
   ],
   "source": [
    "plt.figure(figsize=(14,6))\n",
    "sns.countplot(x='payment_method', hue='company', data=cust_comp, dodge=True, palette='tab10',)\n",
    "plt.legend(loc=1)\n",
    "plt.suptitle('Payment Method Distribution', size=20)\n",
    "plt.title('By Company', size=14)\n",
    "plt.xlabel('Payment Method (M stands for Missing)');"
   ]
  },
  {
   "cell_type": "markdown",
   "id": "bb747b94",
   "metadata": {},
   "source": [
    "We proceed by adding the most popular `payment_method` for each company under `common_payment_method`. on the special case when `M`==(`A` or `B`), The actual payment method will be chosen (either A or B). This was done using the `pd.Series.mode` method."
   ]
  },
  {
   "cell_type": "code",
   "execution_count": 59,
   "id": "c6bcc10e",
   "metadata": {},
   "outputs": [],
   "source": [
    "companies_agg['common_payment_method'] = cust_comp.groupby('company')['payment_method'].agg(lambda x: pd.Series.mode(x)[0])"
   ]
  },
  {
   "cell_type": "markdown",
   "id": "ac6848c4",
   "metadata": {},
   "source": [
    "We conclude our aggregation here. Let us pause and ponder at the aggregated dataframe's top values. <br>\n",
    "Based on it, we choose to reset the index."
   ]
  },
  {
   "cell_type": "code",
   "execution_count": 60,
   "id": "5190669f",
   "metadata": {},
   "outputs": [
    {
     "data": {
      "text/html": [
       "<div>\n",
       "<style scoped>\n",
       "    .dataframe tbody tr th:only-of-type {\n",
       "        vertical-align: middle;\n",
       "    }\n",
       "\n",
       "    .dataframe tbody tr th {\n",
       "        vertical-align: top;\n",
       "    }\n",
       "\n",
       "    .dataframe thead th {\n",
       "        text-align: right;\n",
       "    }\n",
       "</style>\n",
       "<table border=\"1\" class=\"dataframe\">\n",
       "  <thead>\n",
       "    <tr style=\"text-align: right;\">\n",
       "      <th></th>\n",
       "      <th>sampled_employees</th>\n",
       "      <th>avg_employee_age</th>\n",
       "      <th>avg_employee_target</th>\n",
       "      <th>avg_target_count</th>\n",
       "      <th>common_payment_method</th>\n",
       "    </tr>\n",
       "    <tr>\n",
       "      <th>company</th>\n",
       "      <th></th>\n",
       "      <th></th>\n",
       "      <th></th>\n",
       "      <th></th>\n",
       "      <th></th>\n",
       "    </tr>\n",
       "  </thead>\n",
       "  <tbody>\n",
       "    <tr>\n",
       "      <th>AIA</th>\n",
       "      <td>17</td>\n",
       "      <td>33.76</td>\n",
       "      <td>47506.96</td>\n",
       "      <td>3.06</td>\n",
       "      <td>A</td>\n",
       "    </tr>\n",
       "    <tr>\n",
       "      <th>Cathay Pacific Airways</th>\n",
       "      <td>12</td>\n",
       "      <td>31.92</td>\n",
       "      <td>34551.81</td>\n",
       "      <td>3.42</td>\n",
       "      <td>A</td>\n",
       "    </tr>\n",
       "    <tr>\n",
       "      <th>HAECO</th>\n",
       "      <td>7</td>\n",
       "      <td>24.00</td>\n",
       "      <td>23007.91</td>\n",
       "      <td>2.71</td>\n",
       "      <td>A</td>\n",
       "    </tr>\n",
       "  </tbody>\n",
       "</table>\n",
       "</div>"
      ],
      "text/plain": [
       "                        sampled_employees  avg_employee_age  \\\n",
       "company                                                       \n",
       "AIA                                    17             33.76   \n",
       "Cathay Pacific Airways                 12             31.92   \n",
       "HAECO                                   7             24.00   \n",
       "\n",
       "                        avg_employee_target  avg_target_count  \\\n",
       "company                                                         \n",
       "AIA                                47506.96              3.06   \n",
       "Cathay Pacific Airways             34551.81              3.42   \n",
       "HAECO                              23007.91              2.71   \n",
       "\n",
       "                       common_payment_method  \n",
       "company                                       \n",
       "AIA                                        A  \n",
       "Cathay Pacific Airways                     A  \n",
       "HAECO                                      A  "
      ]
     },
     "execution_count": 60,
     "metadata": {},
     "output_type": "execute_result"
    }
   ],
   "source": [
    "companies_agg.head(3)"
   ]
  },
  {
   "cell_type": "code",
   "execution_count": 61,
   "id": "65c8ce70",
   "metadata": {},
   "outputs": [],
   "source": [
    "companies_agg.reset_index(inplace=True)"
   ]
  },
  {
   "cell_type": "markdown",
   "id": "da594f1b",
   "metadata": {},
   "source": [
    "## 11. Combining the data"
   ]
  },
  {
   "cell_type": "markdown",
   "id": "5b7a790f",
   "metadata": {},
   "source": [
    "We now combine the aggregated DataFrame from the previous item with the `companies` dataset.\n",
    "We call it `final_df`"
   ]
  },
  {
   "cell_type": "code",
   "execution_count": 62,
   "id": "406970e7",
   "metadata": {},
   "outputs": [
    {
     "data": {
      "text/html": [
       "<div>\n",
       "<style scoped>\n",
       "    .dataframe tbody tr th:only-of-type {\n",
       "        vertical-align: middle;\n",
       "    }\n",
       "\n",
       "    .dataframe tbody tr th {\n",
       "        vertical-align: top;\n",
       "    }\n",
       "\n",
       "    .dataframe thead th {\n",
       "        text-align: right;\n",
       "    }\n",
       "</style>\n",
       "<table border=\"1\" class=\"dataframe\">\n",
       "  <thead>\n",
       "    <tr style=\"text-align: right;\">\n",
       "      <th></th>\n",
       "      <th>company_id</th>\n",
       "      <th>name</th>\n",
       "      <th>domain</th>\n",
       "      <th>domain_pure</th>\n",
       "      <th>business_nature</th>\n",
       "      <th>employee_number</th>\n",
       "      <th>type</th>\n",
       "      <th>market_cap</th>\n",
       "      <th>sampled_employees</th>\n",
       "      <th>avg_employee_age</th>\n",
       "      <th>avg_employee_target</th>\n",
       "      <th>avg_target_count</th>\n",
       "      <th>common_payment_method</th>\n",
       "    </tr>\n",
       "  </thead>\n",
       "  <tbody>\n",
       "    <tr>\n",
       "      <th>0</th>\n",
       "      <td>000123122</td>\n",
       "      <td>HSBC</td>\n",
       "      <td>www.hsbc.com/</td>\n",
       "      <td>hsbc.com</td>\n",
       "      <td>banking</td>\n",
       "      <td>226059</td>\n",
       "      <td>public</td>\n",
       "      <td>78.4500</td>\n",
       "      <td>35</td>\n",
       "      <td>32.14</td>\n",
       "      <td>54412.60</td>\n",
       "      <td>2.74</td>\n",
       "      <td>A</td>\n",
       "    </tr>\n",
       "    <tr>\n",
       "      <th>1</th>\n",
       "      <td>878434523</td>\n",
       "      <td>AIA</td>\n",
       "      <td>www.aia.com</td>\n",
       "      <td>aia.com</td>\n",
       "      <td>insurance</td>\n",
       "      <td>0</td>\n",
       "      <td>public</td>\n",
       "      <td>1120.0000</td>\n",
       "      <td>17</td>\n",
       "      <td>33.76</td>\n",
       "      <td>47506.96</td>\n",
       "      <td>3.06</td>\n",
       "      <td>A</td>\n",
       "    </tr>\n",
       "    <tr>\n",
       "      <th>2</th>\n",
       "      <td>003423656</td>\n",
       "      <td>MTR</td>\n",
       "      <td>http://www.mtr.com.hk/en/customer/main/index.html</td>\n",
       "      <td>mtr.com.hk</td>\n",
       "      <td>Railway</td>\n",
       "      <td>28035</td>\n",
       "      <td>public</td>\n",
       "      <td>271.0000</td>\n",
       "      <td>18</td>\n",
       "      <td>33.17</td>\n",
       "      <td>25451.94</td>\n",
       "      <td>3.11</td>\n",
       "      <td>A</td>\n",
       "    </tr>\n",
       "    <tr>\n",
       "      <th>3</th>\n",
       "      <td>000452352</td>\n",
       "      <td>PCCW</td>\n",
       "      <td>http://www.pccw.com/</td>\n",
       "      <td>pccw.com</td>\n",
       "      <td>communications</td>\n",
       "      <td>22800</td>\n",
       "      <td>public</td>\n",
       "      <td>31.6001</td>\n",
       "      <td>16</td>\n",
       "      <td>31.00</td>\n",
       "      <td>23889.12</td>\n",
       "      <td>3.31</td>\n",
       "      <td>A</td>\n",
       "    </tr>\n",
       "    <tr>\n",
       "      <th>4</th>\n",
       "      <td>04342ff34</td>\n",
       "      <td>HKT</td>\n",
       "      <td>hkt.com</td>\n",
       "      <td>hkt.com</td>\n",
       "      <td>Telecom</td>\n",
       "      <td>15900</td>\n",
       "      <td>public</td>\n",
       "      <td>80.4500</td>\n",
       "      <td>16</td>\n",
       "      <td>30.12</td>\n",
       "      <td>23956.47</td>\n",
       "      <td>3.00</td>\n",
       "      <td>A</td>\n",
       "    </tr>\n",
       "    <tr>\n",
       "      <th>5</th>\n",
       "      <td>000534534</td>\n",
       "      <td>Manulife</td>\n",
       "      <td>https://www.manulife.com/</td>\n",
       "      <td>manulife.com</td>\n",
       "      <td>insurance</td>\n",
       "      <td>34000</td>\n",
       "      <td>public</td>\n",
       "      <td>47.4000</td>\n",
       "      <td>15</td>\n",
       "      <td>29.67</td>\n",
       "      <td>26448.38</td>\n",
       "      <td>2.13</td>\n",
       "      <td>A</td>\n",
       "    </tr>\n",
       "    <tr>\n",
       "      <th>6</th>\n",
       "      <td>000232131</td>\n",
       "      <td>Cathay Pacific Airways</td>\n",
       "      <td>www.cathaypacific.com</td>\n",
       "      <td>cathaypacific.com</td>\n",
       "      <td>airline</td>\n",
       "      <td>35000</td>\n",
       "      <td>public</td>\n",
       "      <td>42.2900</td>\n",
       "      <td>12</td>\n",
       "      <td>31.92</td>\n",
       "      <td>34551.81</td>\n",
       "      <td>3.42</td>\n",
       "      <td>A</td>\n",
       "    </tr>\n",
       "    <tr>\n",
       "      <th>7</th>\n",
       "      <td>123555342</td>\n",
       "      <td>Hong Kong Police Force</td>\n",
       "      <td>https://www.police.gov.hk</td>\n",
       "      <td>police.gov.hk</td>\n",
       "      <td>law enforcement</td>\n",
       "      <td>36681</td>\n",
       "      <td>government</td>\n",
       "      <td>NaN</td>\n",
       "      <td>8</td>\n",
       "      <td>35.88</td>\n",
       "      <td>52555.48</td>\n",
       "      <td>2.38</td>\n",
       "      <td>A</td>\n",
       "    </tr>\n",
       "    <tr>\n",
       "      <th>8</th>\n",
       "      <td>621621320</td>\n",
       "      <td>KPMG</td>\n",
       "      <td>home.kpmg</td>\n",
       "      <td>home.kpmg</td>\n",
       "      <td>consulting</td>\n",
       "      <td>227000</td>\n",
       "      <td>public</td>\n",
       "      <td>NaN</td>\n",
       "      <td>7</td>\n",
       "      <td>30.14</td>\n",
       "      <td>37613.31</td>\n",
       "      <td>3.43</td>\n",
       "      <td>M</td>\n",
       "    </tr>\n",
       "    <tr>\n",
       "      <th>9</th>\n",
       "      <td>0998411df</td>\n",
       "      <td>HAECO</td>\n",
       "      <td>www.haeco.com</td>\n",
       "      <td>haeco.com</td>\n",
       "      <td>Aerospace</td>\n",
       "      <td>16641</td>\n",
       "      <td>public</td>\n",
       "      <td>NaN</td>\n",
       "      <td>7</td>\n",
       "      <td>24.00</td>\n",
       "      <td>23007.91</td>\n",
       "      <td>2.71</td>\n",
       "      <td>A</td>\n",
       "    </tr>\n",
       "    <tr>\n",
       "      <th>10</th>\n",
       "      <td>0df879987</td>\n",
       "      <td>Prudential</td>\n",
       "      <td>https://www.prudential.com/</td>\n",
       "      <td>prudential.com</td>\n",
       "      <td>insurance</td>\n",
       "      <td>41671</td>\n",
       "      <td>public</td>\n",
       "      <td>40.4900</td>\n",
       "      <td>8</td>\n",
       "      <td>27.88</td>\n",
       "      <td>51737.21</td>\n",
       "      <td>2.75</td>\n",
       "      <td>A</td>\n",
       "    </tr>\n",
       "  </tbody>\n",
       "</table>\n",
       "</div>"
      ],
      "text/plain": [
       "   company_id                    name  \\\n",
       "0   000123122                    HSBC   \n",
       "1   878434523                     AIA   \n",
       "2   003423656                     MTR   \n",
       "3   000452352                    PCCW   \n",
       "4   04342ff34                     HKT   \n",
       "5   000534534                Manulife   \n",
       "6   000232131  Cathay Pacific Airways   \n",
       "7   123555342  Hong Kong Police Force   \n",
       "8   621621320                    KPMG   \n",
       "9   0998411df                   HAECO   \n",
       "10  0df879987              Prudential   \n",
       "\n",
       "                                               domain        domain_pure  \\\n",
       "0                                       www.hsbc.com/           hsbc.com   \n",
       "1                                         www.aia.com            aia.com   \n",
       "2   http://www.mtr.com.hk/en/customer/main/index.html         mtr.com.hk   \n",
       "3                                http://www.pccw.com/           pccw.com   \n",
       "4                                             hkt.com            hkt.com   \n",
       "5                           https://www.manulife.com/       manulife.com   \n",
       "6                               www.cathaypacific.com  cathaypacific.com   \n",
       "7                           https://www.police.gov.hk      police.gov.hk   \n",
       "8                                           home.kpmg          home.kpmg   \n",
       "9                                       www.haeco.com          haeco.com   \n",
       "10                        https://www.prudential.com/     prudential.com   \n",
       "\n",
       "    business_nature  employee_number        type  market_cap  \\\n",
       "0           banking           226059      public     78.4500   \n",
       "1         insurance                0      public   1120.0000   \n",
       "2           Railway            28035      public    271.0000   \n",
       "3    communications            22800      public     31.6001   \n",
       "4           Telecom            15900      public     80.4500   \n",
       "5         insurance            34000      public     47.4000   \n",
       "6           airline            35000      public     42.2900   \n",
       "7   law enforcement            36681  government         NaN   \n",
       "8        consulting           227000      public         NaN   \n",
       "9         Aerospace            16641      public         NaN   \n",
       "10        insurance            41671      public     40.4900   \n",
       "\n",
       "    sampled_employees  avg_employee_age  avg_employee_target  \\\n",
       "0                  35             32.14             54412.60   \n",
       "1                  17             33.76             47506.96   \n",
       "2                  18             33.17             25451.94   \n",
       "3                  16             31.00             23889.12   \n",
       "4                  16             30.12             23956.47   \n",
       "5                  15             29.67             26448.38   \n",
       "6                  12             31.92             34551.81   \n",
       "7                   8             35.88             52555.48   \n",
       "8                   7             30.14             37613.31   \n",
       "9                   7             24.00             23007.91   \n",
       "10                  8             27.88             51737.21   \n",
       "\n",
       "    avg_target_count common_payment_method  \n",
       "0               2.74                     A  \n",
       "1               3.06                     A  \n",
       "2               3.11                     A  \n",
       "3               3.31                     A  \n",
       "4               3.00                     A  \n",
       "5               2.13                     A  \n",
       "6               3.42                     A  \n",
       "7               2.38                     A  \n",
       "8               3.43                     M  \n",
       "9               2.71                     A  \n",
       "10              2.75                     A  "
      ]
     },
     "execution_count": 62,
     "metadata": {},
     "output_type": "execute_result"
    }
   ],
   "source": [
    "final_df = companies.merge(companies_agg, left_on='name', right_on='company').drop('company', axis=1)\n",
    "final_df"
   ]
  },
  {
   "cell_type": "markdown",
   "id": "e0d8ce4c",
   "metadata": {},
   "source": [
    "## 12.Final Inference and Conclusions\n",
    "While most of the aggregated inferenced took place in item (10), we can now induct further analysis with the merged dataframe.<br> We start with a *lmplot* in order to study the relationship between the average employee age and the market cap. Apparently, they are somewhat correlated. Notice how the 1.2T company hires the oldest employees as well."
   ]
  },
  {
   "cell_type": "code",
   "execution_count": 63,
   "id": "348e10ff",
   "metadata": {},
   "outputs": [
    {
     "data": {
      "image/png": "[encoded data removed]",
      "text/plain": [
       "<Figure size 540x360 with 1 Axes>"
      ]
     },
     "metadata": {},
     "output_type": "display_data"
    }
   ],
   "source": [
    "sns.lmplot(x='avg_employee_age', y='market_cap', data=final_df, aspect=1.5)\n",
    "plt.ylim(bottom=-500)\n",
    "plt.title('Pearson Corr: ' + str(round(final_df.corr().at['avg_employee_age', 'market_cap'],3)), pad=-20)\n",
    "plt.suptitle('Market Cap as a function of Average Employee Age', size=15, y=1.04);"
   ]
  },
  {
   "cell_type": "markdown",
   "id": "aa3cf076",
   "metadata": {},
   "source": [
    "We continue with the relationship between the number of employees each company, and their average targets. Note that we dropped `AIA` for this analysis, as it has 0 employees (which is obiously wrong).\n",
    "\n",
    "As the plot implies, the relationship seems to have a 2nd order polinomial relationship, where there is an advantage for more employees untill a certain point, followed by efficiency decrease afterwards. We can think of it this way - Having a too small amount of workers is inefficient, and having too much workers is inefficient (less supervision ability etc). This is a actually a familiar pattern in economics.<br>\n",
    "**Remark** - here we compared employee \"targets\" to productivity. Though, we don't know what \"targets\" really stands for, we assumed its better to have more."
   ]
  },
  {
   "cell_type": "code",
   "execution_count": 64,
   "id": "5cfe7fa9",
   "metadata": {},
   "outputs": [
    {
     "data": {
      "image/png": "[encoded data removed]",
      "text/plain": [
       "<Figure size 486.72x374.4 with 1 Axes>"
      ]
     },
     "metadata": {},
     "output_type": "display_data"
    }
   ],
   "source": [
    "sns.lmplot(x='employee_number', y='avg_employee_target', data=final_df.drop(1), order=2, ci=None, height=5.2, aspect=1.3)\n",
    "plt.suptitle('Employee Average Target', size=18, y=1.07)\n",
    "plt.title('As a Function of Employee Count');"
   ]
  },
  {
   "cell_type": "markdown",
   "id": "99678328",
   "metadata": {},
   "source": [
    "### Conclusion\n",
    "Even though the dataset we got was not optimal (nor the information about it), we managed to squeeze some information out of it - most was visualized. As the reader might have noticed, we tend do explain the rational behind our decisions and any feedback regarding them will be welcomed.<br>\n",
    "There were almost no correlations between the various numeric features, but often there were some clear distribution patterns. We faced some missing values and outliers, which were handled with caution because partial data can be still valueable. Moreover, it can always be filtered out when necessary. (and have been through this project).\n",
    "\n",
    "We have reached the end of the project. The following section is optional and features an additional analysis regarding the connection between `customers` and `companies`, but this time mostly from the customer's side."
   ]
  },
  {
   "cell_type": "markdown",
   "id": "d47df3b4",
   "metadata": {},
   "source": [
    "## 13. Additional Analysis (Optional reading)\n",
    "Let us merge `companies_agg` again, but with `customers` this time."
   ]
  },
  {
   "cell_type": "code",
   "execution_count": 65,
   "id": "239e29fc",
   "metadata": {},
   "outputs": [
    {
     "data": {
      "text/html": [
       "<div>\n",
       "<style scoped>\n",
       "    .dataframe tbody tr th:only-of-type {\n",
       "        vertical-align: middle;\n",
       "    }\n",
       "\n",
       "    .dataframe tbody tr th {\n",
       "        vertical-align: top;\n",
       "    }\n",
       "\n",
       "    .dataframe thead th {\n",
       "        text-align: right;\n",
       "    }\n",
       "</style>\n",
       "<table border=\"1\" class=\"dataframe\">\n",
       "  <thead>\n",
       "    <tr style=\"text-align: right;\">\n",
       "      <th></th>\n",
       "      <th>age</th>\n",
       "      <th>gender</th>\n",
       "      <th>email</th>\n",
       "      <th>provider</th>\n",
       "      <th>business_nature</th>\n",
       "      <th>company</th>\n",
       "      <th>position</th>\n",
       "      <th>payment_method</th>\n",
       "      <th>targets</th>\n",
       "      <th>first_name</th>\n",
       "      <th>last_name</th>\n",
       "      <th>target_mean</th>\n",
       "      <th>target_sd</th>\n",
       "      <th>target_count</th>\n",
       "      <th>sampled_employees</th>\n",
       "      <th>avg_employee_age</th>\n",
       "      <th>avg_employee_target</th>\n",
       "      <th>avg_target_count</th>\n",
       "      <th>common_payment_method</th>\n",
       "    </tr>\n",
       "  </thead>\n",
       "  <tbody>\n",
       "    <tr>\n",
       "      <th>0</th>\n",
       "      <td>32</td>\n",
       "      <td>Male</td>\n",
       "      <td>123.com</td>\n",
       "      <td>123</td>\n",
       "      <td>Insurance</td>\n",
       "      <td>AIA</td>\n",
       "      <td>財務策劃</td>\n",
       "      <td>A</td>\n",
       "      <td>25973.69;25777.53</td>\n",
       "      <td>Noah</td>\n",
       "      <td>Brittin</td>\n",
       "      <td>25875.610000</td>\n",
       "      <td>138.706066</td>\n",
       "      <td>2</td>\n",
       "      <td>17</td>\n",
       "      <td>33.76</td>\n",
       "      <td>47506.96</td>\n",
       "      <td>3.06</td>\n",
       "      <td>A</td>\n",
       "    </tr>\n",
       "    <tr>\n",
       "      <th>1</th>\n",
       "      <td>27</td>\n",
       "      <td>Male</td>\n",
       "      <td>gmail.com</td>\n",
       "      <td>gmail</td>\n",
       "      <td>Insurance</td>\n",
       "      <td>AIA</td>\n",
       "      <td>保險從業員</td>\n",
       "      <td>C</td>\n",
       "      <td>20663.90;21287.92;20578.57;21064.76</td>\n",
       "      <td>Thomas</td>\n",
       "      <td>Kerne</td>\n",
       "      <td>20898.787500</td>\n",
       "      <td>335.003661</td>\n",
       "      <td>4</td>\n",
       "      <td>17</td>\n",
       "      <td>33.76</td>\n",
       "      <td>47506.96</td>\n",
       "      <td>3.06</td>\n",
       "      <td>A</td>\n",
       "    </tr>\n",
       "    <tr>\n",
       "      <th>2</th>\n",
       "      <td>38</td>\n",
       "      <td>Male</td>\n",
       "      <td>hotmail.com</td>\n",
       "      <td>hotmail</td>\n",
       "      <td>Insurance</td>\n",
       "      <td>AIA</td>\n",
       "      <td>Agent</td>\n",
       "      <td>A</td>\n",
       "      <td>53673.65</td>\n",
       "      <td>Norman</td>\n",
       "      <td>Bloeser</td>\n",
       "      <td>53673.650000</td>\n",
       "      <td>NaN</td>\n",
       "      <td>1</td>\n",
       "      <td>17</td>\n",
       "      <td>33.76</td>\n",
       "      <td>47506.96</td>\n",
       "      <td>3.06</td>\n",
       "      <td>A</td>\n",
       "    </tr>\n",
       "    <tr>\n",
       "      <th>3</th>\n",
       "      <td>57</td>\n",
       "      <td>Male</td>\n",
       "      <td>gmail.com</td>\n",
       "      <td>gmail</td>\n",
       "      <td>Professional Services / Consultation</td>\n",
       "      <td>AIA</td>\n",
       "      <td>資深區域經理</td>\n",
       "      <td>M</td>\n",
       "      <td>88045.98;89205.93</td>\n",
       "      <td>Gilbert</td>\n",
       "      <td>Bloeser</td>\n",
       "      <td>88625.955000</td>\n",
       "      <td>820.208511</td>\n",
       "      <td>2</td>\n",
       "      <td>17</td>\n",
       "      <td>33.76</td>\n",
       "      <td>47506.96</td>\n",
       "      <td>3.06</td>\n",
       "      <td>A</td>\n",
       "    </tr>\n",
       "    <tr>\n",
       "      <th>4</th>\n",
       "      <td>25</td>\n",
       "      <td>Male</td>\n",
       "      <td>gmail.com</td>\n",
       "      <td>gmail</td>\n",
       "      <td>Insurance</td>\n",
       "      <td>AIA</td>\n",
       "      <td>Finacial planner</td>\n",
       "      <td>A</td>\n",
       "      <td>17846.35;17937.26;17750.30</td>\n",
       "      <td>Fredrick</td>\n",
       "      <td>Araque</td>\n",
       "      <td>17844.636667</td>\n",
       "      <td>93.491775</td>\n",
       "      <td>3</td>\n",
       "      <td>17</td>\n",
       "      <td>33.76</td>\n",
       "      <td>47506.96</td>\n",
       "      <td>3.06</td>\n",
       "      <td>A</td>\n",
       "    </tr>\n",
       "  </tbody>\n",
       "</table>\n",
       "</div>"
      ],
      "text/plain": [
       "   age gender        email provider                       business_nature  \\\n",
       "0   32   Male      123.com      123                             Insurance   \n",
       "1   27   Male    gmail.com    gmail                             Insurance   \n",
       "2   38   Male  hotmail.com  hotmail                             Insurance   \n",
       "3   57   Male    gmail.com    gmail  Professional Services / Consultation   \n",
       "4   25   Male    gmail.com    gmail                             Insurance   \n",
       "\n",
       "  company          position payment_method  \\\n",
       "0     AIA              財務策劃              A   \n",
       "1     AIA             保險從業員              C   \n",
       "2     AIA             Agent              A   \n",
       "3     AIA            資深區域經理              M   \n",
       "4     AIA  Finacial planner              A   \n",
       "\n",
       "                               targets first_name last_name   target_mean  \\\n",
       "0                    25973.69;25777.53       Noah   Brittin  25875.610000   \n",
       "1  20663.90;21287.92;20578.57;21064.76     Thomas     Kerne  20898.787500   \n",
       "2                             53673.65     Norman   Bloeser  53673.650000   \n",
       "3                    88045.98;89205.93    Gilbert   Bloeser  88625.955000   \n",
       "4           17846.35;17937.26;17750.30   Fredrick    Araque  17844.636667   \n",
       "\n",
       "    target_sd  target_count  sampled_employees  avg_employee_age  \\\n",
       "0  138.706066             2                 17             33.76   \n",
       "1  335.003661             4                 17             33.76   \n",
       "2         NaN             1                 17             33.76   \n",
       "3  820.208511             2                 17             33.76   \n",
       "4   93.491775             3                 17             33.76   \n",
       "\n",
       "   avg_employee_target  avg_target_count common_payment_method  \n",
       "0             47506.96              3.06                     A  \n",
       "1             47506.96              3.06                     A  \n",
       "2             47506.96              3.06                     A  \n",
       "3             47506.96              3.06                     A  \n",
       "4             47506.96              3.06                     A  "
      ]
     },
     "execution_count": 65,
     "metadata": {},
     "output_type": "execute_result"
    }
   ],
   "source": [
    "final_df_2 = customers.merge(companies_agg, on='company')\n",
    "final_df_2.head()"
   ]
  },
  {
   "cell_type": "markdown",
   "id": "d9652b89",
   "metadata": {},
   "source": [
    "Consider the following *KDE plot*, showing the residuals from `target_mean` to `avg_employee_target`. Namely, the difference between each employee's target to the company's average, based on the employee age.<br>\n",
    "We can see most residuals lay around 0, especially within ages 20-30. There are a few abnormal residuals between ages 30-50 and higher residuals at 50+."
   ]
  },
  {
   "cell_type": "code",
   "execution_count": 66,
   "id": "a476dcf8",
   "metadata": {},
   "outputs": [
    {
     "data": {
      "image/png": "[encoded data removed]",
      "text/plain": [
       "<Figure size 720x432 with 1 Axes>"
      ]
     },
     "metadata": {},
     "output_type": "display_data"
    }
   ],
   "source": [
    "plt.figure(figsize=(10,6))\n",
    "sns.kdeplot(x='age', y=(final_df_2['target_mean']-final_df_2['avg_employee_target']), data=final_df_2, fill=True, color='r')\n",
    "plt.ylabel('Residual')\n",
    "plt.suptitle('Employees Target Residual By Age', size=20)\n",
    "plt.title('From Company\\'s Target Average', size=13);"
   ]
  },
  {
   "cell_type": "markdown",
   "id": "15df55b2",
   "metadata": {},
   "source": [
    "Next, we boxplot the residuals vs (email) `provider`. We considered only the top 3 providers mentioned in the previous items, as no paranormal behaviour was spotted along other emails and due to plotting simplicity. We can see most residuals are around 0 with a few outlies withing employees using `gmail` and `hotmail`, but there are more employees with those providers, enhancing the chance for outliers. Hence, we conclude no significant connection between the email provider and targets. "
   ]
  },
  {
   "cell_type": "code",
   "execution_count": 67,
   "id": "ddb24780",
   "metadata": {},
   "outputs": [
    {
     "data": {
      "image/png": "[encoded data removed]",
      "text/plain": [
       "<Figure size 936x288 with 1 Axes>"
      ]
     },
     "metadata": {},
     "output_type": "display_data"
    }
   ],
   "source": [
    "sns.set_style('white')\n",
    "plt.figure(figsize=(13,4))\n",
    "sns.boxplot(y='provider', x=(final_df_2['target_mean']-final_df_2['avg_employee_target']), data=final_df_2[final_df_2.provider.isin(['gmail', 'hotmail', 'yahoo'])])\n",
    "plt.xlabel('Residual')\n",
    "plt.ylabel('')\n",
    "plt.suptitle('Employee Target residuals', size=17)\n",
    "plt.title('By Email Provider', size=12, pad=3.5);"
   ]
  },
  {
   "cell_type": "markdown",
   "id": "67469c5e",
   "metadata": {},
   "source": [
    "Notice that there are more `business_nature` unique values than companies, implying that `business_nature` relates to the employees business nature, rather than the company's."
   ]
  },
  {
   "cell_type": "code",
   "execution_count": 68,
   "id": "5d904fb1",
   "metadata": {},
   "outputs": [
    {
     "name": "stdout",
     "output_type": "stream",
     "text": [
      "There are 17 unique buisness natures, while there are only 11 unique companies.\n"
     ]
    }
   ],
   "source": [
    "print(f'There are {final_df_2.business_nature.nunique()} unique buisness natures, while there are only {final_df_2.company.nunique()} unique companies.')"
   ]
  },
  {
   "cell_type": "markdown",
   "id": "23d47b32",
   "metadata": {},
   "source": [
    "Looking at the different business natures for each `company`, we can most certainly confirm it's related to the employees themselves. (for full lookup, remove the `head()` method)."
   ]
  },
  {
   "cell_type": "code",
   "execution_count": 69,
   "id": "f06be7be",
   "metadata": {},
   "outputs": [
    {
     "data": {
      "text/plain": [
       "company                 business_nature                     \n",
       "AIA                     Insurance                               12\n",
       "                        Professional Services / Consultation     2\n",
       "                        Bank / Finance                           1\n",
       "                        Other                                    1\n",
       "                        Retail / Wholesale                       1\n",
       "Cathay Pacific Airways  Airlines                                12\n",
       "HAECO                   Airlines                                 6\n",
       "                        Other                                    1\n",
       "HKT                     Communications                          13\n",
       "                        Retail / Wholesale                       2\n",
       "                        IT                                       1\n",
       "Name: business_nature, dtype: int64"
      ]
     },
     "execution_count": 69,
     "metadata": {},
     "output_type": "execute_result"
    }
   ],
   "source": [
    "final_df_2.groupby('company')['business_nature'].value_counts().head(11)"
   ]
  },
  {
   "cell_type": "markdown",
   "id": "7ae5b045",
   "metadata": {},
   "source": [
    "# Thank you"
   ]
  }
 ],
 "metadata": {
  "kernelspec": {
   "display_name": "Python 3 (ipykernel)",
   "language": "python",
   "name": "python3"
  },
  "language_info": {
   "codemirror_mode": {
    "name": "ipython",
    "version": 3
   },
   "file_extension": ".py",
   "mimetype": "text/x-python",
   "name": "python",
   "nbconvert_exporter": "python",
   "pygments_lexer": "ipython3",
   "version": "3.9.7"
  }
 },
 "nbformat": 4,
 "nbformat_minor": 5
}
