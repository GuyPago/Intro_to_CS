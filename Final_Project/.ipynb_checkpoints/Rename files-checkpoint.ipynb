{
 "cells": [
  {
   "cell_type": "code",
   "execution_count": null,
   "id": "917f3eb5",
   "metadata": {},
   "outputs": [],
   "source": [
    "import os, sys"
   ]
  },
  {
   "cell_type": "code",
   "execution_count": null,
   "id": "dfe001e7",
   "metadata": {},
   "outputs": [],
   "source": [
    "keyword1 = 's01e01'\n",
    "movies = os.listdir('C:/Users/guypa/Downloads/torrents/How.I.Met.Your.Mother.S01.1080p.AMZN.WEBRip.DDP5.1.x265-SiGMA[rartv]')\n",
    "sub_folder = 'C:/Users/guypa/Desktop/Subtitles'\n",
    "subtitles = os.listdir(sub_folder)\n",
    "lst = ['s01e'+str(i).zfill(2) for i in range(1, len(movies)+1)]"
   ]
  },
  {
   "cell_type": "code",
   "execution_count": null,
   "id": "7343e060",
   "metadata": {},
   "outputs": [],
   "source": [
    "for movie, key in list(zip(movies,lst)):\n",
    "    print(key)\n",
    "#     if keyword1 in movie.lower():\n",
    "#         print(movie)\n",
    "    \n",
    "#     for sub in os.listdir('C:/Users/guypa/Desktop/Subtitles')"
   ]
  },
  {
   "cell_type": "code",
   "execution_count": null,
   "id": "81449b7a",
   "metadata": {
    "scrolled": true
   },
   "outputs": [],
   "source": [
    "for movie, key in list(zip(movies,lst)):\n",
    "#     print(key)\n",
    "    for sub in subtitles:\n",
    "        if key in sub.lower():\n",
    "            os.rename(sub_folder +'/'+ sub, sub_folder +'/new/'+ movie.replace('mkv','srt'))"
   ]
  },
  {
   "cell_type": "code",
   "execution_count": null,
   "id": "6b7995ee",
   "metadata": {},
   "outputs": [],
   "source": [
    "sub_folder +'/'+subtitles[0]"
   ]
  }
 ],
 "metadata": {
  "kernelspec": {
   "display_name": "Python 3 (ipykernel)",
   "language": "python",
   "name": "python3"
  },
  "language_info": {
   "codemirror_mode": {
    "name": "ipython",
    "version": 3
   },
   "file_extension": ".py",
   "mimetype": "text/x-python",
   "name": "python",
   "nbconvert_exporter": "python",
   "pygments_lexer": "ipython3",
   "version": "3.9.7"
  }
 },
 "nbformat": 4,
 "nbformat_minor": 5
}
